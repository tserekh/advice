{
 "cells": [
  {
   "cell_type": "code",
   "execution_count": 1,
   "id": "e76a0f31-4a27-4746-8049-39e693a88f65",
   "metadata": {},
   "outputs": [],
   "source": [
    "import glob\n",
    "from tqdm import tqdm\n",
    "from bs4 import BeautifulSoup\n",
    "from nltk.tokenize import sent_tokenize\n",
    "import pandas as pd\n",
    "from tqdm import tqdm\n",
    "from sklearn.model_selection import train_test_split\n",
    "from sklearn.feature_extraction.text import TfidfTransformer\n",
    "from sklearn.naive_bayes import MultinomialNB\n",
    "from sklearn.naive_bayes import BernoulliNB\n",
    "from sklearn.feature_extraction.text import CountVectorizer\n",
    "\n",
    "from sklearn.feature_extraction.text import CountVectorizer, TfidfVectorizer\n",
    "from sklearn.metrics import roc_auc_score\n",
    "from nltk.tokenize import sent_tokenize, word_tokenize"
   ]
  },
  {
   "cell_type": "code",
   "execution_count": 2,
   "id": "7de13cb3-c43e-4458-983f-9ec755c4b15c",
   "metadata": {},
   "outputs": [],
   "source": [
    "pd.set_option('display.max_colwidth', None)\n",
    "\n",
    "pd.options.display.width = 300"
   ]
  },
  {
   "cell_type": "code",
   "execution_count": 3,
   "id": "a0bf7d31-3e1a-4e0e-b0cd-a5d152cf1c1b",
   "metadata": {},
   "outputs": [],
   "source": [
    "from nltk.tokenize import sent_tokenize, word_tokenize\n",
    "target = 'question'"
   ]
  },
  {
   "cell_type": "code",
   "execution_count": 4,
   "id": "0d274118-0c4b-48a7-afe2-55c7ce85d38d",
   "metadata": {},
   "outputs": [],
   "source": [
    "def get_message(mes):\n",
    "    dic = {}\n",
    "    dic['message'] = mes.text.split('\\n\\n')[-2]\n",
    "    dic['message_id'] = mes.get('id').replace('message', '')\n",
    "    dic['from_name'] = mes.find(attrs={'class':'from_name'})\n",
    "    reply = mes.find(attrs = {'class': 'reply_to details'})\n",
    "    \n",
    "    # print(reply)\n",
    "    if reply:\n",
    "        dic['go_to_message_id'] = reply.find('a').get('href').replace('#go_to_message', '')\n",
    "    return dic"
   ]
  },
  {
   "cell_type": "code",
   "execution_count": 5,
   "id": "9e932278-802c-4eb1-8b33-9ccb90199774",
   "metadata": {},
   "outputs": [],
   "source": [
    "def tokenize(text):\n",
    "    stop_words = ['за', 'там', 'так', 'то', 'все', 'если', '-',\n",
    "       ':', 'но', 'как', 'по', 'у', 'есть', 'это', 'я', 'с', 'а', 'не', ')', 'и', '.', 'в', ',']\n",
    "    tokens = word_tokenize(text.lower(), language=\"russian\")\n",
    "    tokens = list(filter(lambda x:'посовет' not in x, tokens))\n",
    "    tokens = list(filter(lambda x: x not in stop_words, tokens))\n",
    "    \n",
    "    return list(set(tokens))"
   ]
  },
  {
   "cell_type": "code",
   "execution_count": 14,
   "id": "b784ac9b-c7b1-45d9-ae41-e7f6dd9fff14",
   "metadata": {
    "collapsed": true,
    "jupyter": {
     "outputs_hidden": true
    },
    "tags": []
   },
   "outputs": [
    {
     "name": "stderr",
     "output_type": "stream",
     "text": [
      "100%|██████████| 31/31 [00:14<00:00,  2.17it/s]\n",
      "C:\\Users\\artem\\AppData\\Local\\Temp\\ipykernel_19492\\441847778.py:37: FutureWarning: The frame.append method is deprecated and will be removed from pandas in a future version. Use pandas.concat instead.\n",
      "  df_reply_mapping = df_reply_mapping.append(df_reply_mapping_sub)\n",
      "C:\\Users\\artem\\AppData\\Local\\Temp\\ipykernel_19492\\441847778.py:38: FutureWarning: The frame.append method is deprecated and will be removed from pandas in a future version. Use pandas.concat instead.\n",
      "  df_questions = df_questions.append(df_questions_sub)\n",
      "100%|██████████| 56/56 [00:32<00:00,  1.73it/s]\n",
      "C:\\Users\\artem\\AppData\\Local\\Temp\\ipykernel_19492\\441847778.py:37: FutureWarning: The frame.append method is deprecated and will be removed from pandas in a future version. Use pandas.concat instead.\n",
      "  df_reply_mapping = df_reply_mapping.append(df_reply_mapping_sub)\n",
      "C:\\Users\\artem\\AppData\\Local\\Temp\\ipykernel_19492\\441847778.py:38: FutureWarning: The frame.append method is deprecated and will be removed from pandas in a future version. Use pandas.concat instead.\n",
      "  df_questions = df_questions.append(df_questions_sub)\n",
      "100%|██████████| 8/8 [00:04<00:00,  1.85it/s]\n",
      "C:\\Users\\artem\\AppData\\Local\\Temp\\ipykernel_19492\\441847778.py:37: FutureWarning: The frame.append method is deprecated and will be removed from pandas in a future version. Use pandas.concat instead.\n",
      "  df_reply_mapping = df_reply_mapping.append(df_reply_mapping_sub)\n",
      "C:\\Users\\artem\\AppData\\Local\\Temp\\ipykernel_19492\\441847778.py:38: FutureWarning: The frame.append method is deprecated and will be removed from pandas in a future version. Use pandas.concat instead.\n",
      "  df_questions = df_questions.append(df_questions_sub)\n",
      "100%|██████████| 49/49 [00:35<00:00,  1.38it/s]\n",
      "C:\\Users\\artem\\AppData\\Local\\Temp\\ipykernel_19492\\441847778.py:37: FutureWarning: The frame.append method is deprecated and will be removed from pandas in a future version. Use pandas.concat instead.\n",
      "  df_reply_mapping = df_reply_mapping.append(df_reply_mapping_sub)\n",
      "C:\\Users\\artem\\AppData\\Local\\Temp\\ipykernel_19492\\441847778.py:38: FutureWarning: The frame.append method is deprecated and will be removed from pandas in a future version. Use pandas.concat instead.\n",
      "  df_questions = df_questions.append(df_questions_sub)\n",
      "100%|██████████| 180/180 [01:50<00:00,  1.63it/s]\n",
      "C:\\Users\\artem\\AppData\\Local\\Temp\\ipykernel_19492\\441847778.py:37: FutureWarning: The frame.append method is deprecated and will be removed from pandas in a future version. Use pandas.concat instead.\n",
      "  df_reply_mapping = df_reply_mapping.append(df_reply_mapping_sub)\n",
      "C:\\Users\\artem\\AppData\\Local\\Temp\\ipykernel_19492\\441847778.py:38: FutureWarning: The frame.append method is deprecated and will be removed from pandas in a future version. Use pandas.concat instead.\n",
      "  df_questions = df_questions.append(df_questions_sub)\n",
      "100%|██████████| 49/49 [00:36<00:00,  1.35it/s]\n",
      "C:\\Users\\artem\\AppData\\Local\\Temp\\ipykernel_19492\\441847778.py:37: FutureWarning: The frame.append method is deprecated and will be removed from pandas in a future version. Use pandas.concat instead.\n",
      "  df_reply_mapping = df_reply_mapping.append(df_reply_mapping_sub)\n",
      "C:\\Users\\artem\\AppData\\Local\\Temp\\ipykernel_19492\\441847778.py:38: FutureWarning: The frame.append method is deprecated and will be removed from pandas in a future version. Use pandas.concat instead.\n",
      "  df_questions = df_questions.append(df_questions_sub)\n",
      "100%|██████████| 321/321 [03:16<00:00,  1.64it/s]\n",
      "C:\\Users\\artem\\AppData\\Local\\Temp\\ipykernel_19492\\441847778.py:37: FutureWarning: The frame.append method is deprecated and will be removed from pandas in a future version. Use pandas.concat instead.\n",
      "  df_reply_mapping = df_reply_mapping.append(df_reply_mapping_sub)\n",
      "C:\\Users\\artem\\AppData\\Local\\Temp\\ipykernel_19492\\441847778.py:38: FutureWarning: The frame.append method is deprecated and will be removed from pandas in a future version. Use pandas.concat instead.\n",
      "  df_questions = df_questions.append(df_questions_sub)\n",
      "100%|██████████| 21/21 [00:12<00:00,  1.71it/s]\n",
      "C:\\Users\\artem\\AppData\\Local\\Temp\\ipykernel_19492\\441847778.py:37: FutureWarning: The frame.append method is deprecated and will be removed from pandas in a future version. Use pandas.concat instead.\n",
      "  df_reply_mapping = df_reply_mapping.append(df_reply_mapping_sub)\n",
      "C:\\Users\\artem\\AppData\\Local\\Temp\\ipykernel_19492\\441847778.py:38: FutureWarning: The frame.append method is deprecated and will be removed from pandas in a future version. Use pandas.concat instead.\n",
      "  df_questions = df_questions.append(df_questions_sub)\n",
      "100%|██████████| 107/107 [01:25<00:00,  1.26it/s]\n",
      "C:\\Users\\artem\\AppData\\Local\\Temp\\ipykernel_19492\\441847778.py:37: FutureWarning: The frame.append method is deprecated and will be removed from pandas in a future version. Use pandas.concat instead.\n",
      "  df_reply_mapping = df_reply_mapping.append(df_reply_mapping_sub)\n",
      "C:\\Users\\artem\\AppData\\Local\\Temp\\ipykernel_19492\\441847778.py:38: FutureWarning: The frame.append method is deprecated and will be removed from pandas in a future version. Use pandas.concat instead.\n",
      "  df_questions = df_questions.append(df_questions_sub)\n",
      "100%|██████████| 108/108 [01:31<00:00,  1.18it/s]\n",
      "C:\\Users\\artem\\AppData\\Local\\Temp\\ipykernel_19492\\441847778.py:37: FutureWarning: The frame.append method is deprecated and will be removed from pandas in a future version. Use pandas.concat instead.\n",
      "  df_reply_mapping = df_reply_mapping.append(df_reply_mapping_sub)\n",
      "C:\\Users\\artem\\AppData\\Local\\Temp\\ipykernel_19492\\441847778.py:38: FutureWarning: The frame.append method is deprecated and will be removed from pandas in a future version. Use pandas.concat instead.\n",
      "  df_questions = df_questions.append(df_questions_sub)\n"
     ]
    }
   ],
   "source": [
    "# папки с ChatExport\n",
    "sub_list = []\n",
    "folders = glob.glob(\"C:/Users/artem/Downloads/Telegram Desktop/ChatExport/ChatExport*\")\n",
    "files = []\n",
    "df_reply_mapping = pd.DataFrame()\n",
    "df_questions = pd.DataFrame()\n",
    "for chat_name,  folder in enumerate(folders):\n",
    "    files = glob.glob(f\"{folder}/*.html\")\n",
    "    messages_all = []\n",
    "    for file in tqdm(files):\n",
    "        with open(file, encoding='utf-8') as f:\n",
    "            soup = BeautifulSoup(f.read(), 'html.parser')\n",
    "            messages = soup.body.find_all(attrs = {'class':'message'})#.text#.split('\\n\\n')[-2].lower()\n",
    "        messages_all+=messages\n",
    "    # chat_name = soup.find(attrs = {'class', \"text bold\"}).text\n",
    "    df = pd.DataFrame(list(map(get_message, messages_all)))\n",
    "    df[\"chat_name\"] = chat_name\n",
    "    df['tokens'] = df['message'].apply(tokenize)\n",
    "    target = 'question'\n",
    "    target_list = []\n",
    "    for message in df['message'].values:\n",
    "        if 'посовет' in message:\n",
    "            target_list.append(1)\n",
    "        else:\n",
    "            target_list.append(0) \n",
    "    df[target] = target_list\n",
    "    \n",
    "    df_reply_mapping_sub = df[~df['go_to_message_id'].isnull()]\n",
    "    df_reply_mapping_sub = df_reply_mapping_sub.rename(columns={\"go_to_message_id\":\"message_id\", \"message_id\": \"reply_id\"})\n",
    "    df_reply_mapping_sub = pd.merge(df, df_reply_mapping_sub, on=['message_id', 'chat_name'], suffixes=['_question', '_reply'])\n",
    "    df_reply_mapping_sub = df_reply_mapping_sub[df_reply_mapping_sub['question_question']==1]\n",
    "    df_reply_mapping_sub['message_question_tokens'] = df_reply_mapping_sub['message_question'].apply(tokenize)\n",
    "    df_questions_sub = df[df['question']==1]\n",
    "    df_questions_sub = df_questions_sub[['message','message_id', 'chat_name', 'from_name']]\n",
    "    df_questions_sub['message_tokens'] = df_questions_sub['message'].apply(tokenize)\n",
    "    \n",
    "    df_reply_mapping = df_reply_mapping.append(df_reply_mapping_sub)\n",
    "    df_questions = df_questions.append(df_questions_sub)"
   ]
  },
  {
   "cell_type": "code",
   "execution_count": 20,
   "id": "b20fabac-5f6e-4585-833b-029287992196",
   "metadata": {},
   "outputs": [],
   "source": [
    "del df"
   ]
  },
  {
   "cell_type": "code",
   "execution_count": 21,
   "id": "dba3f958-91f3-4411-b832-2a73137416d5",
   "metadata": {},
   "outputs": [],
   "source": [
    "# df_questions"
   ]
  },
  {
   "cell_type": "code",
   "execution_count": 22,
   "id": "f697035b-bdad-4735-86dd-713bf025e006",
   "metadata": {
    "tags": []
   },
   "outputs": [],
   "source": [
    "all_tokens = []\n",
    "for tokens in df_questions['message_tokens'].values:\n",
    "    all_tokens += tokens"
   ]
  },
  {
   "cell_type": "code",
   "execution_count": 23,
   "id": "525edf3b-e5d8-465c-8591-88a1c09c689d",
   "metadata": {},
   "outputs": [],
   "source": [
    "vc = pd.Series(all_tokens).value_counts()"
   ]
  },
  {
   "cell_type": "code",
   "execution_count": 24,
   "id": "a0908acc-ce43-40dc-865f-d7a4d8b9e5ec",
   "metadata": {},
   "outputs": [
    {
     "data": {
      "text/plain": [
       "нужна          29\n",
       "найти          29\n",
       "чтоб           29\n",
       "будет          29\n",
       "которые        28\n",
       "               ..\n",
       "запуталась      1\n",
       "отправиться     1\n",
       "10-го           1\n",
       "🥺буду           1\n",
       "убеждения       1\n",
       "Length: 8138, dtype: int64"
      ]
     },
     "execution_count": 24,
     "metadata": {},
     "output_type": "execute_result"
    }
   ],
   "source": [
    "vc[vc<30]"
   ]
  },
  {
   "cell_type": "code",
   "execution_count": 25,
   "id": "a93b7c07-92ed-4a52-9fa4-460f6ab9969f",
   "metadata": {},
   "outputs": [],
   "source": [
    "remove_from_tokens = set(vc[vc>30].index)"
   ]
  },
  {
   "cell_type": "code",
   "execution_count": 26,
   "id": "909a9d36-f770-425f-ad44-55ed27063d6d",
   "metadata": {},
   "outputs": [],
   "source": [
    "df_questions['message_tokens'] = df_questions['message_tokens'].apply(lambda x: [token for token in x if token not in remove_from_tokens])\n",
    "df_questions = df_questions[df_questions['message_tokens'].apply(len)<10]"
   ]
  },
  {
   "cell_type": "code",
   "execution_count": 27,
   "id": "eef89ea4-0412-4130-a4a0-45f6a26c5a53",
   "metadata": {},
   "outputs": [],
   "source": [
    "# df_reply_mapping"
   ]
  },
  {
   "cell_type": "code",
   "execution_count": 28,
   "id": "15d0472e-6c01-4829-8063-24b2a1da92a5",
   "metadata": {},
   "outputs": [],
   "source": [
    "df_reply_mapping['message_question_tokens'] = df_reply_mapping['message_question_tokens'].apply(lambda x: [token for token in x if token not in remove_from_tokens])\n",
    "df_reply_mapping = df_reply_mapping[df_reply_mapping['message_question_tokens'].apply(len)<10]"
   ]
  },
  {
   "cell_type": "code",
   "execution_count": 29,
   "id": "4ac808c8-6ce0-4ca6-a258-7f46cf04dba0",
   "metadata": {},
   "outputs": [
    {
     "data": {
      "text/html": [
       "<div>\n",
       "<style scoped>\n",
       "    .dataframe tbody tr th:only-of-type {\n",
       "        vertical-align: middle;\n",
       "    }\n",
       "\n",
       "    .dataframe tbody tr th {\n",
       "        vertical-align: top;\n",
       "    }\n",
       "\n",
       "    .dataframe thead th {\n",
       "        text-align: right;\n",
       "    }\n",
       "</style>\n",
       "<table border=\"1\" class=\"dataframe\">\n",
       "  <thead>\n",
       "    <tr style=\"text-align: right;\">\n",
       "      <th></th>\n",
       "      <th>message</th>\n",
       "      <th>message_id</th>\n",
       "      <th>chat_name</th>\n",
       "      <th>from_name</th>\n",
       "      <th>message_tokens</th>\n",
       "    </tr>\n",
       "  </thead>\n",
       "  <tbody>\n",
       "    <tr>\n",
       "      <th>6507</th>\n",
       "      <td>\\nеще эритрит могу посоветовать. Дынный сахар, натур продукт\\n</td>\n",
       "      <td>17786</td>\n",
       "      <td>0</td>\n",
       "      <td>[\\nDeleted Account\\n       ]</td>\n",
       "      <td>[дынный, эритрит, натур, еще, сахар, продукт]</td>\n",
       "    </tr>\n",
       "    <tr>\n",
       "      <th>7894</th>\n",
       "      <td>посоветуйте плиз тренажорку в цетральном Сочи, желательно в шаговой доступности от ЖД Вокзала\\n</td>\n",
       "      <td>19202</td>\n",
       "      <td>0</td>\n",
       "      <td>None</td>\n",
       "      <td>[жд, вокзала, цетральном, шаговой, доступности, тренажорку]</td>\n",
       "    </tr>\n",
       "  </tbody>\n",
       "</table>\n",
       "</div>"
      ],
      "text/plain": [
       "                                                                                                     message message_id  chat_name                     from_name                                               message_tokens\n",
       "6507                                   \\nеще эритрит могу посоветовать. Дынный сахар, натур продукт\\n             17786          0  [\\nDeleted Account\\n       ]                [дынный, эритрит, натур, еще, сахар, продукт]\n",
       "7894  посоветуйте плиз тренажорку в цетральном Сочи, желательно в шаговой доступности от ЖД Вокзала\\n             19202          0                          None  [жд, вокзала, цетральном, шаговой, доступности, тренажорку]"
      ]
     },
     "execution_count": 29,
     "metadata": {},
     "output_type": "execute_result"
    }
   ],
   "source": [
    "df_questions.head(2)"
   ]
  },
  {
   "cell_type": "code",
   "execution_count": 30,
   "id": "ef12937e-65c9-45d1-991e-9ba67c90f1eb",
   "metadata": {},
   "outputs": [],
   "source": [
    "df_reply_mapping['message_tokens'] = df_reply_mapping['message_question'].apply(tokenize)"
   ]
  },
  {
   "cell_type": "code",
   "execution_count": 31,
   "id": "60ed493e-8768-4fd0-b944-50c118c85417",
   "metadata": {},
   "outputs": [],
   "source": [
    "df_reply_mapping['key'] = 0\n",
    "df_questions['key'] = 0"
   ]
  },
  {
   "cell_type": "code",
   "execution_count": 32,
   "id": "0f4797b3-ee40-49c3-8e22-a070a923f7ef",
   "metadata": {},
   "outputs": [],
   "source": [
    "def intersect(row):\n",
    "    stop_words = {'посоветуйте', 'пожалуйста', 'хорошего', 'хорошую', 'ребята', 'привет',\n",
    "                  'здравствуйте', 'добрый', 'день', 'кто', 'может', 'посоветуйте', 'кто', 'может',\n",
    "                 'хорошего', 'мастера',\n",
    "                  'кто', 'привет', '!', '?', 'посоветовать', 'всем'\n",
    "                  , 'может', 'хорошую', 'можете', 'добрый',\n",
    "                'хорошего', \n",
    "                  'день', 'добрый', '!', 'посоветуйте',\n",
    "                 }\n",
    "    message_question_tokens = set(row['message_question_tokens']) - stop_words\n",
    "    message_tokens = set(row['message_tokens']) - stop_words\n",
    "    len1 = len(message_question_tokens&message_tokens)\n",
    "    len2 = max(len(message_question_tokens), len(message_tokens))\n",
    "    if len2==0:\n",
    "        return 0\n",
    "    return len1/len2"
   ]
  },
  {
   "cell_type": "code",
   "execution_count": 70,
   "id": "234fc59b-6f32-4425-954e-0a8dbcf974d4",
   "metadata": {},
   "outputs": [],
   "source": [
    "def cosin(row, col1='message_question_tokens', col2='message_tokens'):\n",
    "    message_question_tokens = row[col1]\n",
    "    message_tokens = row[col2]\n",
    "    question_embedding = np.zeros(300)\n",
    "    message_embedding = np.zeros(300)\n",
    "    for token in message_question_tokens:\n",
    "        if token in data:\n",
    "            question_embedding+=np.array(data[token])\n",
    "    for token in message_tokens:\n",
    "        if token in data:\n",
    "            message_embedding+=np.array(data[token])\n",
    "    cos_sim = np.dot(question_embedding , message_embedding)/(np.linalg.norm(question_embedding)*np.linalg.norm(message_embedding))\n",
    "    return cos_sim"
   ]
  },
  {
   "cell_type": "code",
   "execution_count": 71,
   "id": "36b09aa0-3bc1-43b3-a5a9-6b231f718d62",
   "metadata": {},
   "outputs": [],
   "source": [
    "# df_reply_mapping"
   ]
  },
  {
   "cell_type": "code",
   "execution_count": 72,
   "id": "ca9b0976-5534-4062-8422-d42d888e6169",
   "metadata": {},
   "outputs": [],
   "source": [
    "# message_question_tokens"
   ]
  },
  {
   "cell_type": "code",
   "execution_count": 73,
   "id": "9e31ac2f-6aac-4c25-8fdc-660fd4bc5440",
   "metadata": {},
   "outputs": [],
   "source": [
    "import numpy as np"
   ]
  },
  {
   "cell_type": "code",
   "execution_count": 74,
   "id": "2ec1e926-2673-4dce-8382-0c7aa11a31ab",
   "metadata": {},
   "outputs": [],
   "source": [
    "from functools import reduce"
   ]
  },
  {
   "cell_type": "code",
   "execution_count": 38,
   "id": "4914ad41-0a1a-4f45-924d-59e9448fdf55",
   "metadata": {},
   "outputs": [],
   "source": [
    "use_tokens = set()\n",
    "use_tokens |=reduce(lambda x,y: x|y, df_questions['message_tokens'].apply(set).values)\n",
    "use_tokens |=reduce(lambda x,y: x|y, df_reply_mapping['tokens_question'].apply(set).values)"
   ]
  },
  {
   "cell_type": "code",
   "execution_count": 39,
   "id": "3826b662-a039-4356-baee-680675dde2db",
   "metadata": {},
   "outputs": [
    {
     "name": "stderr",
     "output_type": "stream",
     "text": [
      "2000000it [02:06, 15788.99it/s]\n"
     ]
    }
   ],
   "source": [
    "import io\n",
    "\n",
    "def load_vectors(fname, use_tokens):\n",
    "    fin = io.open(fname, 'r', encoding='utf-8', newline='\\n', errors='ignore')\n",
    "    n, d = map(int, fin.readline().split())\n",
    "    data = {}\n",
    "    for line in tqdm(fin):\n",
    "        tokens = line.rstrip().split(' ')\n",
    "        if tokens[0] in use_tokens:\n",
    "            data[tokens[0]] = list(map(float, tokens[1:]))\n",
    "    return data\n",
    "\n",
    "data = load_vectors(\"D:/Downloads/cc.ru.300.vec/cc.ru.300.vec\", use_tokens)"
   ]
  },
  {
   "cell_type": "code",
   "execution_count": 40,
   "id": "cef54b84-0706-4cbe-87a9-efe3d5bb278e",
   "metadata": {},
   "outputs": [],
   "source": [
    "# vc"
   ]
  },
  {
   "cell_type": "code",
   "execution_count": 41,
   "id": "216906cc-f495-45f5-99be-b7ef4fd32c13",
   "metadata": {},
   "outputs": [
    {
     "data": {
      "text/plain": [
       "349"
      ]
     },
     "execution_count": 41,
     "metadata": {},
     "output_type": "execute_result"
    }
   ],
   "source": [
    "vc['пожалуйста']"
   ]
  },
  {
   "cell_type": "code",
   "execution_count": 42,
   "id": "c000cbf9-bd27-42c4-ac8f-ba7d6998a3fe",
   "metadata": {
    "tags": []
   },
   "outputs": [],
   "source": [
    "df_reply_mapping = df_reply_mapping.drop_duplicates(['message_question', 'message_id'])\n",
    "df_questions = df_questions.drop_duplicates(['message', 'message_id'])"
   ]
  },
  {
   "cell_type": "code",
   "execution_count": 43,
   "id": "eeab772c-f5d1-4763-b3c5-b8f38f450f14",
   "metadata": {
    "tags": []
   },
   "outputs": [],
   "source": [
    "df_cross = pd.merge(\n",
    "    df_reply_mapping[['message_question', 'message_id', 'message_question_tokens', 'key', 'from_name_question', 'from_name_reply']],\n",
    "    df_questions,\n",
    "    on='key')\n",
    "\n",
    "df_cross = df_cross[(df_cross['message_id_x']!=df_cross['message_id_y'])&(df_cross['message_question']!=df_cross['message'])]\n",
    "df_cross['intersect'] = df_cross.apply(intersect,axis=1)"
   ]
  },
  {
   "cell_type": "code",
   "execution_count": 44,
   "id": "b881f0b8-27e4-4228-8a65-ad3817e9b496",
   "metadata": {
    "tags": []
   },
   "outputs": [
    {
     "name": "stderr",
     "output_type": "stream",
     "text": [
      "C:\\Users\\artem\\AppData\\Local\\Temp\\ipykernel_19492\\4236333988.py:12: RuntimeWarning: invalid value encountered in double_scalars\n",
      "  cos_sim = np.dot(question_embedding , message_embedding)/(np.linalg.norm(question_embedding)*np.linalg.norm(message_embedding))\n"
     ]
    }
   ],
   "source": [
    "df_cross['cosin'] = df_cross.apply(cosin,axis=1)"
   ]
  },
  {
   "cell_type": "code",
   "execution_count": 45,
   "id": "07af2723-1c46-4fd5-9519-0a6d07b4998d",
   "metadata": {
    "tags": []
   },
   "outputs": [],
   "source": [
    "df_cross = df_cross[df_cross['message_question']!=df_cross['message']]\n",
    "df_cross = df_cross.sort_values('intersect')"
   ]
  },
  {
   "cell_type": "code",
   "execution_count": 46,
   "id": "0e145e13-53f4-4717-8e81-51204b910da4",
   "metadata": {},
   "outputs": [],
   "source": [
    "# df_cross[df_cross['message_question_tokens'].apply(len)<10]"
   ]
  },
  {
   "cell_type": "code",
   "execution_count": 47,
   "id": "0928bb41-1b42-4702-98e2-5f369f492257",
   "metadata": {
    "collapsed": true,
    "jupyter": {
     "outputs_hidden": true
    },
    "tags": []
   },
   "outputs": [
    {
     "data": {
      "text/html": [
       "<div>\n",
       "<style scoped>\n",
       "    .dataframe tbody tr th:only-of-type {\n",
       "        vertical-align: middle;\n",
       "    }\n",
       "\n",
       "    .dataframe tbody tr th {\n",
       "        vertical-align: top;\n",
       "    }\n",
       "\n",
       "    .dataframe thead th {\n",
       "        text-align: right;\n",
       "    }\n",
       "</style>\n",
       "<table border=\"1\" class=\"dataframe\">\n",
       "  <thead>\n",
       "    <tr style=\"text-align: right;\">\n",
       "      <th></th>\n",
       "      <th>message_question</th>\n",
       "      <th>message_id_x</th>\n",
       "      <th>message_question_tokens</th>\n",
       "      <th>key</th>\n",
       "      <th>from_name_question</th>\n",
       "      <th>from_name_reply</th>\n",
       "      <th>message</th>\n",
       "      <th>message_id_y</th>\n",
       "      <th>chat_name</th>\n",
       "      <th>from_name</th>\n",
       "      <th>message_tokens</th>\n",
       "      <th>intersect</th>\n",
       "      <th>cosin</th>\n",
       "    </tr>\n",
       "  </thead>\n",
       "  <tbody>\n",
       "    <tr>\n",
       "      <th>779617</th>\n",
       "      <td>Ребят, посоветуйте дайвинг клуб?\\n</td>\n",
       "      <td>93986</td>\n",
       "      <td>[дайвинг, клуб]</td>\n",
       "      <td>0</td>\n",
       "      <td>[\\nАнастасия Радостева\\n       ]</td>\n",
       "      <td>[\\nArtur Lipatov Loading.....\\n       ]</td>\n",
       "      <td>Добрый вечер, посоветуйте клуб!!! Всем хорошего  время прохождения!!\\n</td>\n",
       "      <td>128048</td>\n",
       "      <td>8</td>\n",
       "      <td>[\\nAnton \\n       ]</td>\n",
       "      <td>[клуб, прохождения]</td>\n",
       "      <td>0.500000</td>\n",
       "      <td>0.880271</td>\n",
       "    </tr>\n",
       "    <tr>\n",
       "      <th>188470</th>\n",
       "      <td>Добрый вечер! А можете посоветовать детского Лора?\\n</td>\n",
       "      <td>209677</td>\n",
       "      <td>[лора, детского]</td>\n",
       "      <td>0</td>\n",
       "      <td>[\\nElena Nazarova\\n       ]</td>\n",
       "      <td>[\\nOlya \\n       ]</td>\n",
       "      <td>Добрый день. Какого ЛОРа посоветуете?\\n</td>\n",
       "      <td>173698</td>\n",
       "      <td>8</td>\n",
       "      <td>[\\nSerggio \\n       ]</td>\n",
       "      <td>[лора, какого]</td>\n",
       "      <td>0.500000</td>\n",
       "      <td>0.881476</td>\n",
       "    </tr>\n",
       "    <tr>\n",
       "      <th>820355</th>\n",
       "      <td>Добрый день. Какого ЛОРа посоветуете?\\n</td>\n",
       "      <td>173698</td>\n",
       "      <td>[лора, какого]</td>\n",
       "      <td>0</td>\n",
       "      <td>[\\nSerggio \\n       ]</td>\n",
       "      <td>[\\nKristina \\n       ]</td>\n",
       "      <td>Добрый вечер! А можете посоветовать детского Лора?\\n</td>\n",
       "      <td>209677</td>\n",
       "      <td>4</td>\n",
       "      <td>[\\nElena Nazarova\\n       ]</td>\n",
       "      <td>[лора, детского]</td>\n",
       "      <td>0.500000</td>\n",
       "      <td>0.881476</td>\n",
       "    </tr>\n",
       "    <tr>\n",
       "      <th>700450</th>\n",
       "      <td>Ребята, очень нужно, посоветуйте подобный чат в Геленджике🙏🙏🙏🙏🙏🙏🙏🙏🙏🙏\\n</td>\n",
       "      <td>37642</td>\n",
       "      <td>[геленджике🙏🙏🙏🙏🙏🙏🙏🙏🙏🙏, чат, подобный]</td>\n",
       "      <td>0</td>\n",
       "      <td>[\\nОфигеваю От Хотелок Менеджеров\\n       ]</td>\n",
       "      <td>[\\nDasha \\n       ]</td>\n",
       "      <td>Доброго дня всем, может кто-то посоветует чат для творческих людей\\n</td>\n",
       "      <td>232057</td>\n",
       "      <td>4</td>\n",
       "      <td>[\\nJulia \\n       ]</td>\n",
       "      <td>[людей, творческих, чат]</td>\n",
       "      <td>0.333333</td>\n",
       "      <td>0.888917</td>\n",
       "    </tr>\n",
       "    <tr>\n",
       "      <th>697666</th>\n",
       "      <td>Ребят а посоветуйте классные бары в Сочи. Только не клубы а именно бары, может тематические или просто хорошие\\n</td>\n",
       "      <td>31066</td>\n",
       "      <td>[клубы, тематические, классные, бары, именно]</td>\n",
       "      <td>0</td>\n",
       "      <td>[\\nМатвей Колтышев\\n       ]</td>\n",
       "      <td>[\\nAlyona Kotova\\n       ]</td>\n",
       "      <td>Всем привет, посоветуйте, пожалуйста, хорошие клубы с электронной музыкой или бары в Сочи.\\n</td>\n",
       "      <td>195799</td>\n",
       "      <td>8</td>\n",
       "      <td>[\\nATMA \\n       ]</td>\n",
       "      <td>[клубы, музыкой, бары, электронной]</td>\n",
       "      <td>0.400000</td>\n",
       "      <td>0.889533</td>\n",
       "    </tr>\n",
       "    <tr>\n",
       "      <th>833314</th>\n",
       "      <td>Всем привет, посоветуйте, пожалуйста, хорошие клубы с электронной музыкой или бары в Сочи.\\n</td>\n",
       "      <td>195799</td>\n",
       "      <td>[клубы, музыкой, бары, электронной]</td>\n",
       "      <td>0</td>\n",
       "      <td>[\\nATMA \\n       ]</td>\n",
       "      <td>[\\nOlga \\n       ]</td>\n",
       "      <td>Ребят а посоветуйте классные бары в Сочи. Только не клубы а именно бары, может тематические или просто хорошие\\n</td>\n",
       "      <td>31066</td>\n",
       "      <td>7</td>\n",
       "      <td>[\\nМатвей Колтышев\\n       ]</td>\n",
       "      <td>[клубы, тематические, классные, бары, именно]</td>\n",
       "      <td>0.400000</td>\n",
       "      <td>0.889533</td>\n",
       "    </tr>\n",
       "    <tr>\n",
       "      <th>442534</th>\n",
       "      <td>Хочется в баню сегодня.. посоветуйте в Эстосадке или на Поляне, пожалуйста\\n</td>\n",
       "      <td>122759</td>\n",
       "      <td>[эстосадке, баню, хочется]</td>\n",
       "      <td>0</td>\n",
       "      <td>[\\nWhite Lynx By\\n       ]</td>\n",
       "      <td>[\\nВлад \\n       ]</td>\n",
       "      <td>Всем привет, ребята посоветуйте пожалуйста баню,  не дорогую.\\n</td>\n",
       "      <td>135563</td>\n",
       "      <td>4</td>\n",
       "      <td>[\\nВалерий \\n       ]</td>\n",
       "      <td>[баню, дорогую]</td>\n",
       "      <td>0.333333</td>\n",
       "      <td>0.892960</td>\n",
       "    </tr>\n",
       "    <tr>\n",
       "      <th>6076</th>\n",
       "      <td>\\nДа, мне как раз посоветовал @fedor_anikiev  Красный штурм\\n</td>\n",
       "      <td>23021</td>\n",
       "      <td>[красный, @, штурм, fedor_anikiev]</td>\n",
       "      <td>0</td>\n",
       "      <td>[\\nRoman Kalinichenko\\n       ]</td>\n",
       "      <td>[\\nДаша \\n       ]</td>\n",
       "      <td>\\nМне кажется @aangellife , что я знаю , кому это посоветовать 🤣\\n</td>\n",
       "      <td>153883</td>\n",
       "      <td>8</td>\n",
       "      <td>None</td>\n",
       "      <td>[aangellife, 🤣, @, кому, кажется]</td>\n",
       "      <td>0.200000</td>\n",
       "      <td>0.893744</td>\n",
       "    </tr>\n",
       "    <tr>\n",
       "      <th>820647</th>\n",
       "      <td>Добрый день. Какого ЛОРа посоветуете?\\n</td>\n",
       "      <td>173698</td>\n",
       "      <td>[лора, какого]</td>\n",
       "      <td>0</td>\n",
       "      <td>[\\nSerggio \\n       ]</td>\n",
       "      <td>[\\nKristina \\n       ]</td>\n",
       "      <td>А посоветуйте плиз хорошего Лора в КП ( Адлере/Сочи) ? 🙏\\n</td>\n",
       "      <td>92235</td>\n",
       "      <td>4</td>\n",
       "      <td>[\\nKate Best\\n       ]</td>\n",
       "      <td>[лора, адлере/сочи]</td>\n",
       "      <td>0.500000</td>\n",
       "      <td>0.893982</td>\n",
       "    </tr>\n",
       "    <tr>\n",
       "      <th>669380</th>\n",
       "      <td>Добрый вечер, посоветуйте в Адлере молодёжный бар\\n</td>\n",
       "      <td>490149</td>\n",
       "      <td>[молодёжный, бар]</td>\n",
       "      <td>0</td>\n",
       "      <td>[\\nNatalya Shpankova\\n       ]</td>\n",
       "      <td>[\\nМахран Esquire\\n       ]</td>\n",
       "      <td>Друзья посоветуйте места в Адлере где можно вечер провести? Бар ресторан что бы не скучно было)))\\n</td>\n",
       "      <td>12846</td>\n",
       "      <td>8</td>\n",
       "      <td>[\\nZhanna \\n       ]</td>\n",
       "      <td>[провести, ресторан, бар, скучно]</td>\n",
       "      <td>0.250000</td>\n",
       "      <td>0.894832</td>\n",
       "    </tr>\n",
       "    <tr>\n",
       "      <th>57668</th>\n",
       "      <td>Добрый день. Вкусные суши/роллы в поляне посоветуйте? В «Имбире» разочаровался!\\n</td>\n",
       "      <td>26791</td>\n",
       "      <td>[вкусные, «, имбире, », суши/роллы, разочаровался]</td>\n",
       "      <td>0</td>\n",
       "      <td>[\\nГригорий \\n       ]</td>\n",
       "      <td>[\\nOleg Mmmm\\n       ]</td>\n",
       "      <td>Всем привет! Может ли кто посоветовать в Поляне чистку ковров/диванов? Формат «мужик с керхером», спасибо!\\n</td>\n",
       "      <td>63461</td>\n",
       "      <td>3</td>\n",
       "      <td>[\\nKaterina \\n       ]</td>\n",
       "      <td>[мужик, ковров/диванов, чистку, «, формат, », керхером]</td>\n",
       "      <td>0.285714</td>\n",
       "      <td>0.895737</td>\n",
       "    </tr>\n",
       "    <tr>\n",
       "      <th>98005</th>\n",
       "      <td>Всем привет! Может ли кто посоветовать в Поляне чистку ковров/диванов? Формат «мужик с керхером», спасибо!\\n</td>\n",
       "      <td>63461</td>\n",
       "      <td>[мужик, ковров/диванов, чистку, «, формат, », керхером]</td>\n",
       "      <td>0</td>\n",
       "      <td>[\\nKaterina \\n       ]</td>\n",
       "      <td>[\\nDenis Merkushev\\n       ]</td>\n",
       "      <td>Добрый день. Вкусные суши/роллы в поляне посоветуйте? В «Имбире» разочаровался!\\n</td>\n",
       "      <td>26791</td>\n",
       "      <td>3</td>\n",
       "      <td>[\\nГригорий \\n       ]</td>\n",
       "      <td>[вкусные, «, имбире, », суши/роллы, разочаровался]</td>\n",
       "      <td>0.285714</td>\n",
       "      <td>0.895737</td>\n",
       "    </tr>\n",
       "    <tr>\n",
       "      <th>474637</th>\n",
       "      <td>Ребята, посоветуйте пожалуйста бар в Эстосадке с пивом и шавухой)))\\n</td>\n",
       "      <td>142284</td>\n",
       "      <td>[эстосадке, шавухой, пивом, бар]</td>\n",
       "      <td>0</td>\n",
       "      <td>[\\nЕкатерина Силина\\n       ]</td>\n",
       "      <td>[\\nSMBUMER \\n       ]</td>\n",
       "      <td>Добрый вечер, посоветуйте в Адлере молодёжный бар\\n</td>\n",
       "      <td>490149</td>\n",
       "      <td>6</td>\n",
       "      <td>[\\nNatalya Shpankova\\n       ]</td>\n",
       "      <td>[молодёжный, бар]</td>\n",
       "      <td>0.250000</td>\n",
       "      <td>0.895752</td>\n",
       "    </tr>\n",
       "    <tr>\n",
       "      <th>668993</th>\n",
       "      <td>Добрый вечер, посоветуйте в Адлере молодёжный бар\\n</td>\n",
       "      <td>490149</td>\n",
       "      <td>[молодёжный, бар]</td>\n",
       "      <td>0</td>\n",
       "      <td>[\\nNatalya Shpankova\\n       ]</td>\n",
       "      <td>[\\nМахран Esquire\\n       ]</td>\n",
       "      <td>Ребята, посоветуйте пожалуйста бар в Эстосадке с пивом и шавухой)))\\n</td>\n",
       "      <td>142284</td>\n",
       "      <td>4</td>\n",
       "      <td>[\\nЕкатерина Силина\\n       ]</td>\n",
       "      <td>[эстосадке, шавухой, пивом, бар]</td>\n",
       "      <td>0.250000</td>\n",
       "      <td>0.895752</td>\n",
       "    </tr>\n",
       "    <tr>\n",
       "      <th>549475</th>\n",
       "      <td>Привет) может кто посоветует чатик для девушек? Где про бьюти услуги, можно в лс, чтобы не спамить) спасибо))\\n</td>\n",
       "      <td>215814</td>\n",
       "      <td>[спамить, лс, про, девушек, чатик, услуги, бьюти]</td>\n",
       "      <td>0</td>\n",
       "      <td>[\\nTanya @sochnaya_zhizn\\n       ]</td>\n",
       "      <td>[\\nGP \\n       ]</td>\n",
       "      <td>Всем привет друзья! Кто может посоветовать хороших Сочинских блогеров, у которых можно разместить рекламу бизнес-тематики. В лс пожалуйста)))\\n</td>\n",
       "      <td>17453</td>\n",
       "      <td>8</td>\n",
       "      <td>[\\nЛапочка 🐾 \\n       ]</td>\n",
       "      <td>[которых, лс, сочинских, блогеров, хороших, бизнес-тематики, рекламу, разместить]</td>\n",
       "      <td>0.125000</td>\n",
       "      <td>0.897732</td>\n",
       "    </tr>\n",
       "    <tr>\n",
       "      <th>549243</th>\n",
       "      <td>Привет) может кто посоветует чатик для девушек? Где про бьюти услуги, можно в лс, чтобы не спамить) спасибо))\\n</td>\n",
       "      <td>215814</td>\n",
       "      <td>[спамить, лс, про, девушек, чатик, услуги, бьюти]</td>\n",
       "      <td>0</td>\n",
       "      <td>[\\nTanya @sochnaya_zhizn\\n       ]</td>\n",
       "      <td>[\\nGP \\n       ]</td>\n",
       "      <td>Всем привет друзья! Кто может посоветовать хороших Сочинских блогеров, у которых можно разместить рекламу бизнес-тематики. В лс пожалуйста)))\\n</td>\n",
       "      <td>370792</td>\n",
       "      <td>6</td>\n",
       "      <td>[\\nЛапочка 🐾 \\n       ]</td>\n",
       "      <td>[которых, лс, сочинских, блогеров, хороших, бизнес-тематики, рекламу, разместить]</td>\n",
       "      <td>0.125000</td>\n",
       "      <td>0.897732</td>\n",
       "    </tr>\n",
       "    <tr>\n",
       "      <th>623811</th>\n",
       "      <td>Всем привет друзья! Кто может посоветовать хороших Сочинских блогеров, у которых можно разместить рекламу бизнес-тематики. В лс пожалуйста)))\\n</td>\n",
       "      <td>370792</td>\n",
       "      <td>[которых, лс, сочинских, блогеров, хороших, бизнес-тематики, рекламу, разместить]</td>\n",
       "      <td>0</td>\n",
       "      <td>[\\nЛапочка 🐾 \\n       ]</td>\n",
       "      <td>[\\n🌼🌼 Татьяна 🌼🌼 \\n       ]</td>\n",
       "      <td>Привет) может кто посоветует чатик для девушек? Где про бьюти услуги, можно в лс, чтобы не спамить) спасибо))\\n</td>\n",
       "      <td>215814</td>\n",
       "      <td>6</td>\n",
       "      <td>[\\nTanya @sochnaya_zhizn\\n       ]</td>\n",
       "      <td>[спамить, лс, про, девушек, чатик, услуги, бьюти]</td>\n",
       "      <td>0.125000</td>\n",
       "      <td>0.897732</td>\n",
       "    </tr>\n",
       "    <tr>\n",
       "      <th>464507</th>\n",
       "      <td>Ребят привет, посоветуйте отдельный чат для сноубордистов 🏂\\n</td>\n",
       "      <td>136621</td>\n",
       "      <td>[🏂, отдельный, сноубордистов, чат]</td>\n",
       "      <td>0</td>\n",
       "      <td>[\\nMariya Mirabbela\\n       ]</td>\n",
       "      <td>[\\nAnton Belousov\\n       ]</td>\n",
       "      <td>Ребят, посоветуйте пожалуйста чат по спорту в Адлере и центральном Сочи?\\n</td>\n",
       "      <td>114879</td>\n",
       "      <td>4</td>\n",
       "      <td>[\\nМарина 🍊🍊🍊\\n       ]</td>\n",
       "      <td>[спорту, центральном, чат]</td>\n",
       "      <td>0.250000</td>\n",
       "      <td>0.898748</td>\n",
       "    </tr>\n",
       "    <tr>\n",
       "      <th>514</th>\n",
       "      <td>посоветуйте плиз тренажорку в цетральном Сочи, желательно в шаговой доступности от ЖД Вокзала\\n</td>\n",
       "      <td>19202</td>\n",
       "      <td>[жд, вокзала, цетральном, шаговой, доступности, тренажорку]</td>\n",
       "      <td>0</td>\n",
       "      <td>None</td>\n",
       "      <td>[\\nЛеонид Петров\\n       ]</td>\n",
       "      <td>Друзья посоветуйте номера микро Автобусов, что бы с жд адлера забрать. 15.12 8:00\\n</td>\n",
       "      <td>53795</td>\n",
       "      <td>4</td>\n",
       "      <td>[\\nОлег \\n       ]</td>\n",
       "      <td>[15.12, 8:00, жд, забрать, автобусов, микро, номера, адлера]</td>\n",
       "      <td>0.125000</td>\n",
       "      <td>0.898971</td>\n",
       "    </tr>\n",
       "    <tr>\n",
       "      <th>700739</th>\n",
       "      <td>Ребята, очень нужно, посоветуйте подобный чат в Геленджике🙏🙏🙏🙏🙏🙏🙏🙏🙏🙏\\n</td>\n",
       "      <td>37642</td>\n",
       "      <td>[геленджике🙏🙏🙏🙏🙏🙏🙏🙏🙏🙏, чат, подобный]</td>\n",
       "      <td>0</td>\n",
       "      <td>[\\nОфигеваю От Хотелок Менеджеров\\n       ]</td>\n",
       "      <td>[\\nDasha \\n       ]</td>\n",
       "      <td>Ребят, посоветуйте пожалуйста чат по спорту в Адлере и центральном Сочи?\\n</td>\n",
       "      <td>114879</td>\n",
       "      <td>4</td>\n",
       "      <td>[\\nМарина 🍊🍊🍊\\n       ]</td>\n",
       "      <td>[спорту, центральном, чат]</td>\n",
       "      <td>0.333333</td>\n",
       "      <td>0.899044</td>\n",
       "    </tr>\n",
       "  </tbody>\n",
       "</table>\n",
       "</div>"
      ],
      "text/plain": [
       "                                                                                                                                              message_question message_id_x                                                            message_question_tokens  key  \\\n",
       "779617                                                                                                               Ребят, посоветуйте дайвинг клуб?\\n               93986                                                                    [дайвинг, клуб]    0   \n",
       "188470                                                                                             Добрый вечер! А можете посоветовать детского Лора?\\n              209677                                                                   [лора, детского]    0   \n",
       "820355                                                                                                          Добрый день. Какого ЛОРа посоветуете?\\n              173698                                                                     [лора, какого]    0   \n",
       "700450                                                                           Ребята, очень нужно, посоветуйте подобный чат в Геленджике🙏🙏🙏🙏🙏🙏🙏🙏🙏🙏\\n               37642                                              [геленджике🙏🙏🙏🙏🙏🙏🙏🙏🙏🙏, чат, подобный]    0   \n",
       "697666                                 Ребят а посоветуйте классные бары в Сочи. Только не клубы а именно бары, может тематические или просто хорошие\\n               31066                                      [клубы, тематические, классные, бары, именно]    0   \n",
       "833314                                                     Всем привет, посоветуйте, пожалуйста, хорошие клубы с электронной музыкой или бары в Сочи.\\n              195799                                                [клубы, музыкой, бары, электронной]    0   \n",
       "442534                                                                     Хочется в баню сегодня.. посоветуйте в Эстосадке или на Поляне, пожалуйста\\n              122759                                                         [эстосадке, баню, хочется]    0   \n",
       "6076                                                                                      \\nДа, мне как раз посоветовал @fedor_anikiev  Красный штурм\\n               23021                                                 [красный, @, штурм, fedor_anikiev]    0   \n",
       "820647                                                                                                          Добрый день. Какого ЛОРа посоветуете?\\n              173698                                                                     [лора, какого]    0   \n",
       "669380                                                                                              Добрый вечер, посоветуйте в Адлере молодёжный бар\\n              490149                                                                  [молодёжный, бар]    0   \n",
       "57668                                                                 Добрый день. Вкусные суши/роллы в поляне посоветуйте? В «Имбире» разочаровался!\\n               26791                                 [вкусные, «, имбире, », суши/роллы, разочаровался]    0   \n",
       "98005                                      Всем привет! Может ли кто посоветовать в Поляне чистку ковров/диванов? Формат «мужик с керхером», спасибо!\\n               63461                            [мужик, ковров/диванов, чистку, «, формат, », керхером]    0   \n",
       "474637                                                                            Ребята, посоветуйте пожалуйста бар в Эстосадке с пивом и шавухой)))\\n              142284                                                   [эстосадке, шавухой, пивом, бар]    0   \n",
       "668993                                                                                              Добрый вечер, посоветуйте в Адлере молодёжный бар\\n              490149                                                                  [молодёжный, бар]    0   \n",
       "549475                                  Привет) может кто посоветует чатик для девушек? Где про бьюти услуги, можно в лс, чтобы не спамить) спасибо))\\n              215814                                  [спамить, лс, про, девушек, чатик, услуги, бьюти]    0   \n",
       "549243                                  Привет) может кто посоветует чатик для девушек? Где про бьюти услуги, можно в лс, чтобы не спамить) спасибо))\\n              215814                                  [спамить, лс, про, девушек, чатик, услуги, бьюти]    0   \n",
       "623811  Всем привет друзья! Кто может посоветовать хороших Сочинских блогеров, у которых можно разместить рекламу бизнес-тематики. В лс пожалуйста)))\\n              370792  [которых, лс, сочинских, блогеров, хороших, бизнес-тематики, рекламу, разместить]    0   \n",
       "464507                                                                                    Ребят привет, посоветуйте отдельный чат для сноубордистов 🏂\\n              136621                                                 [🏂, отдельный, сноубордистов, чат]    0   \n",
       "514                                                     посоветуйте плиз тренажорку в цетральном Сочи, желательно в шаговой доступности от ЖД Вокзала\\n               19202                        [жд, вокзала, цетральном, шаговой, доступности, тренажорку]    0   \n",
       "700739                                                                           Ребята, очень нужно, посоветуйте подобный чат в Геленджике🙏🙏🙏🙏🙏🙏🙏🙏🙏🙏\\n               37642                                              [геленджике🙏🙏🙏🙏🙏🙏🙏🙏🙏🙏, чат, подобный]    0   \n",
       "\n",
       "                                 from_name_question                          from_name_reply                                                                                                                                                 message message_id_y  chat_name  \\\n",
       "779617             [\\nАнастасия Радостева\\n       ]  [\\nArtur Lipatov Loading.....\\n       ]                                                                           Добрый вечер, посоветуйте клуб!!! Всем хорошего  время прохождения!!\\n              128048          8   \n",
       "188470                  [\\nElena Nazarova\\n       ]                       [\\nOlya \\n       ]                                                                                                          Добрый день. Какого ЛОРа посоветуете?\\n              173698          8   \n",
       "820355                        [\\nSerggio \\n       ]                   [\\nKristina \\n       ]                                                                                             Добрый вечер! А можете посоветовать детского Лора?\\n              209677          4   \n",
       "700450  [\\nОфигеваю От Хотелок Менеджеров\\n       ]                      [\\nDasha \\n       ]                                                                             Доброго дня всем, может кто-то посоветует чат для творческих людей\\n              232057          4   \n",
       "697666                 [\\nМатвей Колтышев\\n       ]               [\\nAlyona Kotova\\n       ]                                                     Всем привет, посоветуйте, пожалуйста, хорошие клубы с электронной музыкой или бары в Сочи.\\n              195799          8   \n",
       "833314                           [\\nATMA \\n       ]                       [\\nOlga \\n       ]                                 Ребят а посоветуйте классные бары в Сочи. Только не клубы а именно бары, может тематические или просто хорошие\\n               31066          7   \n",
       "442534                   [\\nWhite Lynx By\\n       ]                       [\\nВлад \\n       ]                                                                                  Всем привет, ребята посоветуйте пожалуйста баню,  не дорогую.\\n              135563          4   \n",
       "6076                [\\nRoman Kalinichenko\\n       ]                       [\\nДаша \\n       ]                                                                               \\nМне кажется @aangellife , что я знаю , кому это посоветовать 🤣\\n              153883          8   \n",
       "820647                        [\\nSerggio \\n       ]                   [\\nKristina \\n       ]                                                                                       А посоветуйте плиз хорошего Лора в КП ( Адлере/Сочи) ? 🙏\\n               92235          4   \n",
       "669380               [\\nNatalya Shpankova\\n       ]              [\\nМахран Esquire\\n       ]                                              Друзья посоветуйте места в Адлере где можно вечер провести? Бар ресторан что бы не скучно было)))\\n               12846          8   \n",
       "57668                        [\\nГригорий \\n       ]                   [\\nOleg Mmmm\\n       ]                                     Всем привет! Может ли кто посоветовать в Поляне чистку ковров/диванов? Формат «мужик с керхером», спасибо!\\n               63461          3   \n",
       "98005                        [\\nKaterina \\n       ]             [\\nDenis Merkushev\\n       ]                                                                Добрый день. Вкусные суши/роллы в поляне посоветуйте? В «Имбире» разочаровался!\\n               26791          3   \n",
       "474637                [\\nЕкатерина Силина\\n       ]                    [\\nSMBUMER \\n       ]                                                                                              Добрый вечер, посоветуйте в Адлере молодёжный бар\\n              490149          6   \n",
       "668993               [\\nNatalya Shpankova\\n       ]              [\\nМахран Esquire\\n       ]                                                                            Ребята, посоветуйте пожалуйста бар в Эстосадке с пивом и шавухой)))\\n              142284          4   \n",
       "549475           [\\nTanya @sochnaya_zhizn\\n       ]                         [\\nGP \\n       ]  Всем привет друзья! Кто может посоветовать хороших Сочинских блогеров, у которых можно разместить рекламу бизнес-тематики. В лс пожалуйста)))\\n               17453          8   \n",
       "549243           [\\nTanya @sochnaya_zhizn\\n       ]                         [\\nGP \\n       ]  Всем привет друзья! Кто может посоветовать хороших Сочинских блогеров, у которых можно разместить рекламу бизнес-тематики. В лс пожалуйста)))\\n              370792          6   \n",
       "623811                      [\\nЛапочка 🐾 \\n       ]              [\\n🌼🌼 Татьяна 🌼🌼 \\n       ]                                  Привет) может кто посоветует чатик для девушек? Где про бьюти услуги, можно в лс, чтобы не спамить) спасибо))\\n              215814          6   \n",
       "464507                [\\nMariya Mirabbela\\n       ]              [\\nAnton Belousov\\n       ]                                                                       Ребят, посоветуйте пожалуйста чат по спорту в Адлере и центральном Сочи?\\n              114879          4   \n",
       "514                                            None               [\\nЛеонид Петров\\n       ]                                                              Друзья посоветуйте номера микро Автобусов, что бы с жд адлера забрать. 15.12 8:00\\n               53795          4   \n",
       "700739  [\\nОфигеваю От Хотелок Менеджеров\\n       ]                      [\\nDasha \\n       ]                                                                       Ребят, посоветуйте пожалуйста чат по спорту в Адлере и центральном Сочи?\\n              114879          4   \n",
       "\n",
       "                                 from_name                                                                     message_tokens  intersect     cosin  \n",
       "779617                 [\\nAnton \\n       ]                                                                [клуб, прохождения]   0.500000  0.880271  \n",
       "188470               [\\nSerggio \\n       ]                                                                     [лора, какого]   0.500000  0.881476  \n",
       "820355         [\\nElena Nazarova\\n       ]                                                                   [лора, детского]   0.500000  0.881476  \n",
       "700450                 [\\nJulia \\n       ]                                                           [людей, творческих, чат]   0.333333  0.888917  \n",
       "697666                  [\\nATMA \\n       ]                                                [клубы, музыкой, бары, электронной]   0.400000  0.889533  \n",
       "833314        [\\nМатвей Колтышев\\n       ]                                      [клубы, тематические, классные, бары, именно]   0.400000  0.889533  \n",
       "442534               [\\nВалерий \\n       ]                                                                    [баню, дорогую]   0.333333  0.892960  \n",
       "6076                                  None                                                  [aangellife, 🤣, @, кому, кажется]   0.200000  0.893744  \n",
       "820647              [\\nKate Best\\n       ]                                                                [лора, адлере/сочи]   0.500000  0.893982  \n",
       "669380                [\\nZhanna \\n       ]                                                  [провести, ресторан, бар, скучно]   0.250000  0.894832  \n",
       "57668               [\\nKaterina \\n       ]                            [мужик, ковров/диванов, чистку, «, формат, », керхером]   0.285714  0.895737  \n",
       "98005               [\\nГригорий \\n       ]                                 [вкусные, «, имбире, », суши/роллы, разочаровался]   0.285714  0.895737  \n",
       "474637      [\\nNatalya Shpankova\\n       ]                                                                  [молодёжный, бар]   0.250000  0.895752  \n",
       "668993       [\\nЕкатерина Силина\\n       ]                                                   [эстосадке, шавухой, пивом, бар]   0.250000  0.895752  \n",
       "549475             [\\nЛапочка 🐾 \\n       ]  [которых, лс, сочинских, блогеров, хороших, бизнес-тематики, рекламу, разместить]   0.125000  0.897732  \n",
       "549243             [\\nЛапочка 🐾 \\n       ]  [которых, лс, сочинских, блогеров, хороших, бизнес-тематики, рекламу, разместить]   0.125000  0.897732  \n",
       "623811  [\\nTanya @sochnaya_zhizn\\n       ]                                  [спамить, лс, про, девушек, чатик, услуги, бьюти]   0.125000  0.897732  \n",
       "464507             [\\nМарина 🍊🍊🍊\\n       ]                                                         [спорту, центральном, чат]   0.250000  0.898748  \n",
       "514                     [\\nОлег \\n       ]                       [15.12, 8:00, жд, забрать, автобусов, микро, номера, адлера]   0.125000  0.898971  \n",
       "700739             [\\nМарина 🍊🍊🍊\\n       ]                                                         [спорту, центральном, чат]   0.333333  0.899044  "
      ]
     },
     "execution_count": 47,
     "metadata": {},
     "output_type": "execute_result"
    }
   ],
   "source": [
    "df_cross[(df_cross['cosin'].notnull())&(df_cross['cosin']<0.90)].sort_values('cosin').iloc[-20:]"
   ]
  },
  {
   "cell_type": "code",
   "execution_count": 101,
   "id": "c298ca7e-c432-406c-8e29-6abab1f67d3e",
   "metadata": {},
   "outputs": [],
   "source": [
    "text = 'посоветуйте автосервис'\n",
    "\n",
    "tokens = tokenize(text)\n",
    "tokens = [token for token in tokens if token not in remove_from_tokens]"
   ]
  },
  {
   "cell_type": "code",
   "execution_count": 102,
   "id": "06fb5f1a-376c-4e89-ad5a-362820a134ec",
   "metadata": {},
   "outputs": [
    {
     "data": {
      "text/plain": [
       "['автосервис']"
      ]
     },
     "execution_count": 102,
     "metadata": {},
     "output_type": "execute_result"
    }
   ],
   "source": [
    "tokens"
   ]
  },
  {
   "cell_type": "code",
   "execution_count": 103,
   "id": "a3eaa79f-cbb4-4b53-b6f4-ca45af5f0e8f",
   "metadata": {
    "tags": []
   },
   "outputs": [],
   "source": [
    "df_reply_mapping['new_tokens'] = len(df_reply_mapping)*[tokens]"
   ]
  },
  {
   "cell_type": "code",
   "execution_count": 104,
   "id": "29c3c6e5-34b9-4f25-8dd7-c0de247b0abf",
   "metadata": {},
   "outputs": [],
   "source": [
    "# df_reply_mapping"
   ]
  },
  {
   "cell_type": "code",
   "execution_count": 105,
   "id": "1bb8e17c-b774-442b-9355-3eb81ea63587",
   "metadata": {},
   "outputs": [],
   "source": [
    "df_reply_mapping['cosin'] = df_reply_mapping.apply(lambda x: cosin(x, 'message_tokens', 'new_tokens'),axis=1)"
   ]
  },
  {
   "cell_type": "code",
   "execution_count": 106,
   "id": "e6f27901-d300-491c-89a5-eddf483ae59a",
   "metadata": {
    "collapsed": true,
    "jupyter": {
     "outputs_hidden": true
    },
    "tags": []
   },
   "outputs": [
    {
     "data": {
      "text/html": [
       "<div>\n",
       "<style scoped>\n",
       "    .dataframe tbody tr th:only-of-type {\n",
       "        vertical-align: middle;\n",
       "    }\n",
       "\n",
       "    .dataframe tbody tr th {\n",
       "        vertical-align: top;\n",
       "    }\n",
       "\n",
       "    .dataframe thead th {\n",
       "        text-align: right;\n",
       "    }\n",
       "</style>\n",
       "<table border=\"1\" class=\"dataframe\">\n",
       "  <thead>\n",
       "    <tr style=\"text-align: right;\">\n",
       "      <th></th>\n",
       "      <th>message_question</th>\n",
       "      <th>message_id</th>\n",
       "      <th>from_name_question</th>\n",
       "      <th>go_to_message_id</th>\n",
       "      <th>chat_name</th>\n",
       "      <th>tokens_question</th>\n",
       "      <th>question_question</th>\n",
       "      <th>message_reply</th>\n",
       "      <th>reply_id</th>\n",
       "      <th>from_name_reply</th>\n",
       "      <th>tokens_reply</th>\n",
       "      <th>question_reply</th>\n",
       "      <th>message_question_tokens</th>\n",
       "      <th>message_tokens</th>\n",
       "      <th>key</th>\n",
       "      <th>new_tokens</th>\n",
       "      <th>cosin</th>\n",
       "    </tr>\n",
       "  </thead>\n",
       "  <tbody>\n",
       "    <tr>\n",
       "      <th>70546</th>\n",
       "      <td>Здравствуйте. Не посоветуете хороший ски- сервис в Адлере. Новые лыжи нужно настроить😁\\n</td>\n",
       "      <td>138891</td>\n",
       "      <td>[\\nИнна \\n       ]</td>\n",
       "      <td>NaN</td>\n",
       "      <td>4</td>\n",
       "      <td>[адлере, здравствуйте, лыжи, нужно, ски-, новые, хороший, настроить😁, сервис]</td>\n",
       "      <td>1</td>\n",
       "      <td>\\nЗа Кедром(стоматология на Ленина) есть Альпийский клуб, там ски-сервис\\n</td>\n",
       "      <td>138946</td>\n",
       "      <td>None</td>\n",
       "      <td>[клуб, кедром, стоматология, альпийский, (, на, ленина, ски-сервис]</td>\n",
       "      <td>0</td>\n",
       "      <td>[лыжи, ски-, новые, настроить😁, сервис]</td>\n",
       "      <td>[адлере, здравствуйте, лыжи, нужно, ски-, новые, хороший, настроить😁, сервис]</td>\n",
       "      <td>0</td>\n",
       "      <td>[автосервис]</td>\n",
       "      <td>0.395507</td>\n",
       "    </tr>\n",
       "    <tr>\n",
       "      <th>30253</th>\n",
       "      <td>Всем привет , посоветуйте хороший автосервис, течёт масло.\\n</td>\n",
       "      <td>263449</td>\n",
       "      <td>[\\nGalina \\n       ]</td>\n",
       "      <td>NaN</td>\n",
       "      <td>4</td>\n",
       "      <td>[течёт, масло, привет, автосервис, всем, хороший]</td>\n",
       "      <td>1</td>\n",
       "      <td>\\nНа плотинной улице, до конца и налево\\n</td>\n",
       "      <td>263450</td>\n",
       "      <td>[\\nIvan \\n       ]</td>\n",
       "      <td>[на, налево, конца, до, улице, плотинной]</td>\n",
       "      <td>0</td>\n",
       "      <td>[течёт, масло, автосервис]</td>\n",
       "      <td>[течёт, масло, привет, автосервис, всем, хороший]</td>\n",
       "      <td>0</td>\n",
       "      <td>[автосервис]</td>\n",
       "      <td>0.400109</td>\n",
       "    </tr>\n",
       "    <tr>\n",
       "      <th>7513</th>\n",
       "      <td>Привет ,посоветуйте клуб в Сочи с нормальными ценами.\\n</td>\n",
       "      <td>23488</td>\n",
       "      <td>[\\nMarina \\n       ]</td>\n",
       "      <td>NaN</td>\n",
       "      <td>7</td>\n",
       "      <td>[клуб, привет, нормальными, ценами, сочи]</td>\n",
       "      <td>1</td>\n",
       "      <td>\\nБестужев\\n</td>\n",
       "      <td>23489</td>\n",
       "      <td>[\\n🟢 Николай ™ \\n       ]</td>\n",
       "      <td>[бестужев]</td>\n",
       "      <td>0</td>\n",
       "      <td>[клуб, нормальными, ценами]</td>\n",
       "      <td>[клуб, привет, нормальными, ценами, сочи]</td>\n",
       "      <td>0</td>\n",
       "      <td>[автосервис]</td>\n",
       "      <td>0.401668</td>\n",
       "    </tr>\n",
       "    <tr>\n",
       "      <th>21121</th>\n",
       "      <td>Други посоветуйте клуб в центре Сочи\\n</td>\n",
       "      <td>117117</td>\n",
       "      <td>[\\nАнтон \\n       ]</td>\n",
       "      <td>NaN</td>\n",
       "      <td>8</td>\n",
       "      <td>[клуб, центре, сочи, други]</td>\n",
       "      <td>1</td>\n",
       "      <td>\\nЦентрал парк. Если дип техно любишь\\n</td>\n",
       "      <td>117126</td>\n",
       "      <td>[\\nЮлия Измайлова\\n       ]</td>\n",
       "      <td>[техно, парк, дип, централ, любишь]</td>\n",
       "      <td>0</td>\n",
       "      <td>[клуб, центре, други]</td>\n",
       "      <td>[клуб, центре, сочи, други]</td>\n",
       "      <td>0</td>\n",
       "      <td>[автосервис]</td>\n",
       "      <td>0.414451</td>\n",
       "    </tr>\n",
       "    <tr>\n",
       "      <th>11231</th>\n",
       "      <td>всем привет) посоветуйте нормальную автошколу в Сочи, центральный район))\\n</td>\n",
       "      <td>75657</td>\n",
       "      <td>[\\nКристина Кадырова\\n       ]</td>\n",
       "      <td>NaN</td>\n",
       "      <td>8</td>\n",
       "      <td>[привет, автошколу, центральный, сочи, район, всем, нормальную]</td>\n",
       "      <td>1</td>\n",
       "      <td>\\nСкиф\\n</td>\n",
       "      <td>75660</td>\n",
       "      <td>[\\nМаксим Сверчков \\n       ]</td>\n",
       "      <td>[скиф]</td>\n",
       "      <td>0</td>\n",
       "      <td>[автошколу, центральный, район, нормальную]</td>\n",
       "      <td>[привет, автошколу, центральный, сочи, район, всем, нормальную]</td>\n",
       "      <td>0</td>\n",
       "      <td>[автосервис]</td>\n",
       "      <td>0.415209</td>\n",
       "    </tr>\n",
       "    <tr>\n",
       "      <th>109398</th>\n",
       "      <td>Добрый вечер, посоветуйте в Адлере молодёжный бар\\n</td>\n",
       "      <td>490149</td>\n",
       "      <td>[\\nNatalya Shpankova\\n       ]</td>\n",
       "      <td>NaN</td>\n",
       "      <td>6</td>\n",
       "      <td>[добрый, адлере, молодёжный, вечер, бар]</td>\n",
       "      <td>1</td>\n",
       "      <td>\\nМалина\\n</td>\n",
       "      <td>490157</td>\n",
       "      <td>[\\nМахран Esquire\\n       ]</td>\n",
       "      <td>[малина]</td>\n",
       "      <td>0</td>\n",
       "      <td>[молодёжный, бар]</td>\n",
       "      <td>[добрый, адлере, молодёжный, вечер, бар]</td>\n",
       "      <td>0</td>\n",
       "      <td>[автосервис]</td>\n",
       "      <td>0.415677</td>\n",
       "    </tr>\n",
       "    <tr>\n",
       "      <th>1952</th>\n",
       "      <td>Доброе утро! Автолюбители, посоветуйте хорошую СТО в Адлере. Личный авто марки Рено.\\n</td>\n",
       "      <td>174233</td>\n",
       "      <td>[\\nВлад \\n       ]</td>\n",
       "      <td>NaN</td>\n",
       "      <td>4</td>\n",
       "      <td>[адлере, хорошую, !, марки, рено, доброе, сто, автолюбители, личный, утро, авто]</td>\n",
       "      <td>1</td>\n",
       "      <td>\\nСТО quattro, на Авиационной. Классные ребята!!!\\n</td>\n",
       "      <td>174251</td>\n",
       "      <td>[\\nMaXteRoK🔥 \\n       ]</td>\n",
       "      <td>[quattro, авиационной, классные, на, !, ребята, сто]</td>\n",
       "      <td>0</td>\n",
       "      <td>[марки, рено, сто, автолюбители, личный, авто]</td>\n",
       "      <td>[адлере, хорошую, !, марки, рено, доброе, сто, автолюбители, личный, утро, авто]</td>\n",
       "      <td>0</td>\n",
       "      <td>[автосервис]</td>\n",
       "      <td>0.427461</td>\n",
       "    </tr>\n",
       "    <tr>\n",
       "      <th>7720</th>\n",
       "      <td>Коллеги, посоветуйте проверенный автосервис в Адлере, плииз. В Краснополянском не работает сход-развал(((\\n</td>\n",
       "      <td>37014</td>\n",
       "      <td>[\\nOleg Mmmm\\n       ]</td>\n",
       "      <td>NaN</td>\n",
       "      <td>3</td>\n",
       "      <td>[адлере, краснополянском, проверенный, автосервис, коллеги, (, плииз, сход-развал, работает]</td>\n",
       "      <td>1</td>\n",
       "      <td>\\nАвтосервисhttp://goldenkeyauto.ru/ идеально\\n</td>\n",
       "      <td>37247</td>\n",
       "      <td>[\\nVera Levdina\\n       ]</td>\n",
       "      <td>[//goldenkeyauto.ru/, автосервисhttp, идеально]</td>\n",
       "      <td>0</td>\n",
       "      <td>[краснополянском, проверенный, автосервис, коллеги, плииз, сход-развал, работает]</td>\n",
       "      <td>[адлере, краснополянском, проверенный, автосервис, коллеги, (, плииз, сход-развал, работает]</td>\n",
       "      <td>0</td>\n",
       "      <td>[автосервис]</td>\n",
       "      <td>0.436037</td>\n",
       "    </tr>\n",
       "    <tr>\n",
       "      <th>38608</th>\n",
       "      <td>Ребят посоветуйте хороший фитнес клуб в сочи\\n</td>\n",
       "      <td>195440</td>\n",
       "      <td>[\\nNety Fety\\n       ]</td>\n",
       "      <td>NaN</td>\n",
       "      <td>8</td>\n",
       "      <td>[клуб, ребят, сочи, хороший, фитнес]</td>\n",
       "      <td>1</td>\n",
       "      <td>\\nв кудепсте вроде хороший\\n</td>\n",
       "      <td>195441</td>\n",
       "      <td>[\\nЯ \\n       ]</td>\n",
       "      <td>[хороший, кудепсте, вроде]</td>\n",
       "      <td>0</td>\n",
       "      <td>[клуб, фитнес]</td>\n",
       "      <td>[клуб, ребят, сочи, хороший, фитнес]</td>\n",
       "      <td>0</td>\n",
       "      <td>[автосервис]</td>\n",
       "      <td>0.456510</td>\n",
       "    </tr>\n",
       "    <tr>\n",
       "      <th>82624</th>\n",
       "      <td>\\nТогда и посоветуйте мастера по АКПП 🙂\\n</td>\n",
       "      <td>397768</td>\n",
       "      <td>[\\nDenis Mulitsa\\n       ]</td>\n",
       "      <td>397764</td>\n",
       "      <td>6</td>\n",
       "      <td>[🙂, тогда, акпп, мастера]</td>\n",
       "      <td>1</td>\n",
       "      <td>\\nСие мне неизвестно\\n</td>\n",
       "      <td>397770</td>\n",
       "      <td>[\\nGP \\n       ]</td>\n",
       "      <td>[мне, неизвестно, сие]</td>\n",
       "      <td>0</td>\n",
       "      <td>[🙂, тогда, акпп]</td>\n",
       "      <td>[🙂, тогда, акпп, мастера]</td>\n",
       "      <td>0</td>\n",
       "      <td>[автосервис]</td>\n",
       "      <td>0.463327</td>\n",
       "    </tr>\n",
       "  </tbody>\n",
       "</table>\n",
       "</div>"
      ],
      "text/plain": [
       "                                                                                                          message_question message_id              from_name_question go_to_message_id  chat_name                                                                               tokens_question  \\\n",
       "70546                      Здравствуйте. Не посоветуете хороший ски- сервис в Адлере. Новые лыжи нужно настроить😁\\n            138891              [\\nИнна \\n       ]              NaN          4                 [адлере, здравствуйте, лыжи, нужно, ски-, новые, хороший, настроить😁, сервис]   \n",
       "30253                                                  Всем привет , посоветуйте хороший автосервис, течёт масло.\\n            263449            [\\nGalina \\n       ]              NaN          4                                             [течёт, масло, привет, автосервис, всем, хороший]   \n",
       "7513                                                        Привет ,посоветуйте клуб в Сочи с нормальными ценами.\\n             23488            [\\nMarina \\n       ]              NaN          7                                                     [клуб, привет, нормальными, ценами, сочи]   \n",
       "21121                                                                        Други посоветуйте клуб в центре Сочи\\n            117117             [\\nАнтон \\n       ]              NaN          8                                                                   [клуб, центре, сочи, други]   \n",
       "11231                                   всем привет) посоветуйте нормальную автошколу в Сочи, центральный район))\\n             75657  [\\nКристина Кадырова\\n       ]              NaN          8                               [привет, автошколу, центральный, сочи, район, всем, нормальную]   \n",
       "109398                                                          Добрый вечер, посоветуйте в Адлере молодёжный бар\\n            490149  [\\nNatalya Shpankova\\n       ]              NaN          6                                                      [добрый, адлере, молодёжный, вечер, бар]   \n",
       "1952                         Доброе утро! Автолюбители, посоветуйте хорошую СТО в Адлере. Личный авто марки Рено.\\n            174233              [\\nВлад \\n       ]              NaN          4              [адлере, хорошую, !, марки, рено, доброе, сто, автолюбители, личный, утро, авто]   \n",
       "7720    Коллеги, посоветуйте проверенный автосервис в Адлере, плииз. В Краснополянском не работает сход-развал(((\\n             37014          [\\nOleg Mmmm\\n       ]              NaN          3  [адлере, краснополянском, проверенный, автосервис, коллеги, (, плииз, сход-развал, работает]   \n",
       "38608                                                                Ребят посоветуйте хороший фитнес клуб в сочи\\n            195440          [\\nNety Fety\\n       ]              NaN          8                                                          [клуб, ребят, сочи, хороший, фитнес]   \n",
       "82624                                                                     \\nТогда и посоветуйте мастера по АКПП 🙂\\n            397768      [\\nDenis Mulitsa\\n       ]           397764          6                                                                     [🙂, тогда, акпп, мастера]   \n",
       "\n",
       "        question_question                                                                      message_reply reply_id                from_name_reply                                                         tokens_reply  question_reply  \\\n",
       "70546                   1  \\nЗа Кедром(стоматология на Ленина) есть Альпийский клуб, там ски-сервис\\n          138946                           None  [клуб, кедром, стоматология, альпийский, (, на, ленина, ски-сервис]               0   \n",
       "30253                   1                                   \\nНа плотинной улице, до конца и налево\\n          263450             [\\nIvan \\n       ]                            [на, налево, конца, до, улице, плотинной]               0   \n",
       "7513                    1                                                                \\nБестужев\\n           23489      [\\n🟢 Николай ™ \\n       ]                                                           [бестужев]               0   \n",
       "21121                   1                                     \\nЦентрал парк. Если дип техно любишь\\n          117126    [\\nЮлия Измайлова\\n       ]                                  [техно, парк, дип, централ, любишь]               0   \n",
       "11231                   1                                                                    \\nСкиф\\n           75660  [\\nМаксим Сверчков \\n       ]                                                               [скиф]               0   \n",
       "109398                  1                                                                  \\nМалина\\n          490157    [\\nМахран Esquire\\n       ]                                                             [малина]               0   \n",
       "1952                    1                         \\nСТО quattro, на Авиационной. Классные ребята!!!\\n          174251        [\\nMaXteRoK🔥 \\n       ]                 [quattro, авиационной, классные, на, !, ребята, сто]               0   \n",
       "7720                    1                             \\nАвтосервисhttp://goldenkeyauto.ru/ идеально\\n           37247      [\\nVera Levdina\\n       ]                      [//goldenkeyauto.ru/, автосервисhttp, идеально]               0   \n",
       "38608                   1                                                \\nв кудепсте вроде хороший\\n          195441                [\\nЯ \\n       ]                                           [хороший, кудепсте, вроде]               0   \n",
       "82624                   1                                                      \\nСие мне неизвестно\\n          397770               [\\nGP \\n       ]                                               [мне, неизвестно, сие]               0   \n",
       "\n",
       "                                                                  message_question_tokens                                                                                message_tokens  key    new_tokens     cosin  \n",
       "70546                                             [лыжи, ски-, новые, настроить😁, сервис]                 [адлере, здравствуйте, лыжи, нужно, ски-, новые, хороший, настроить😁, сервис]    0  [автосервис]  0.395507  \n",
       "30253                                                          [течёт, масло, автосервис]                                             [течёт, масло, привет, автосервис, всем, хороший]    0  [автосервис]  0.400109  \n",
       "7513                                                          [клуб, нормальными, ценами]                                                     [клуб, привет, нормальными, ценами, сочи]    0  [автосервис]  0.401668  \n",
       "21121                                                               [клуб, центре, други]                                                                   [клуб, центре, сочи, други]    0  [автосервис]  0.414451  \n",
       "11231                                         [автошколу, центральный, район, нормальную]                               [привет, автошколу, центральный, сочи, район, всем, нормальную]    0  [автосервис]  0.415209  \n",
       "109398                                                                  [молодёжный, бар]                                                      [добрый, адлере, молодёжный, вечер, бар]    0  [автосервис]  0.415677  \n",
       "1952                                       [марки, рено, сто, автолюбители, личный, авто]              [адлере, хорошую, !, марки, рено, доброе, сто, автолюбители, личный, утро, авто]    0  [автосервис]  0.427461  \n",
       "7720    [краснополянском, проверенный, автосервис, коллеги, плииз, сход-развал, работает]  [адлере, краснополянском, проверенный, автосервис, коллеги, (, плииз, сход-развал, работает]    0  [автосервис]  0.436037  \n",
       "38608                                                                      [клуб, фитнес]                                                          [клуб, ребят, сочи, хороший, фитнес]    0  [автосервис]  0.456510  \n",
       "82624                                                                    [🙂, тогда, акпп]                                                                     [🙂, тогда, акпп, мастера]    0  [автосервис]  0.463327  "
      ]
     },
     "execution_count": 106,
     "metadata": {},
     "output_type": "execute_result"
    }
   ],
   "source": [
    "df_reply_mapping[df_reply_mapping['cosin'].notnull()].sort_values('cosin').tail(10)"
   ]
  },
  {
   "cell_type": "code",
   "execution_count": null,
   "id": "f5b21171-5816-4c03-bb83-aa88481bebff",
   "metadata": {},
   "outputs": [],
   "source": [
    "aaa"
   ]
  },
  {
   "cell_type": "code",
   "execution_count": 54,
   "id": "e4163de8-5e75-45e0-b875-c1256ae935be",
   "metadata": {},
   "outputs": [
    {
     "data": {
      "text/plain": [
       "['ресторан']"
      ]
     },
     "execution_count": 54,
     "metadata": {},
     "output_type": "execute_result"
    }
   ],
   "source": [
    "tokens"
   ]
  },
  {
   "cell_type": "code",
   "execution_count": null,
   "id": "07ed300d-face-4f60-a47e-3788a7bb9bf8",
   "metadata": {},
   "outputs": [],
   "source": []
  },
  {
   "cell_type": "code",
   "execution_count": null,
   "id": "cfb183a2-9a9e-4ca9-bf83-a08d63ffa5da",
   "metadata": {},
   "outputs": [],
   "source": []
  },
  {
   "cell_type": "code",
   "execution_count": null,
   "id": "c469f224-08c7-459e-b752-026f4d491ccb",
   "metadata": {},
   "outputs": [],
   "source": []
  },
  {
   "cell_type": "code",
   "execution_count": null,
   "id": "5f61166d-768a-4915-b398-f8d8221750fa",
   "metadata": {},
   "outputs": [],
   "source": [
    "len(use_tokens)"
   ]
  },
  {
   "cell_type": "code",
   "execution_count": null,
   "id": "1d1966a5-e5d4-42e5-9ebc-d970c11ffd15",
   "metadata": {},
   "outputs": [],
   "source": [
    "pd.options.display.max_rows = 100"
   ]
  },
  {
   "cell_type": "code",
   "execution_count": null,
   "id": "b60f157c-0601-45ca-834a-ed67f5342129",
   "metadata": {
    "tags": []
   },
   "outputs": [],
   "source": [
    "view = df_cross[(df_cross['intersect'].notnull())&(df_cross['from_name_question']!=df_cross['from_name'])].iloc[-140:-70]"
   ]
  },
  {
   "cell_type": "code",
   "execution_count": null,
   "id": "1188a87e-2d09-4f27-8f7b-8069a9e9672a",
   "metadata": {},
   "outputs": [],
   "source": [
    "# use_tokens"
   ]
  },
  {
   "cell_type": "code",
   "execution_count": null,
   "id": "818a266a-164f-4fff-82c5-34a7a23eb99a",
   "metadata": {},
   "outputs": [],
   "source": [
    "# data"
   ]
  },
  {
   "cell_type": "code",
   "execution_count": null,
   "id": "b74d82fb-2a53-43cc-95f2-c45648a0f847",
   "metadata": {},
   "outputs": [],
   "source": [
    "find_token = 'остеопата'"
   ]
  },
  {
   "cell_type": "code",
   "execution_count": null,
   "id": "50ad1988-9035-40d0-b998-d58bd099d5fb",
   "metadata": {
    "tags": []
   },
   "outputs": [],
   "source": [
    "# data.keys()"
   ]
  },
  {
   "cell_type": "code",
   "execution_count": null,
   "id": "60a4fcb1-22f8-4d67-9a3e-c663e89c6ec6",
   "metadata": {},
   "outputs": [],
   "source": [
    "dic = {}\n",
    "for token, emb in data.items():\n",
    "    cos_sim = np.dot(data[token] , data[find_token])/(np.linalg.norm(data[token] )*np.linalg.norm(data[find_token]))\n",
    "    dic[token] = cos_sim"
   ]
  },
  {
   "cell_type": "code",
   "execution_count": null,
   "id": "82d56a20-6d4b-41de-9eae-2f92789c6d73",
   "metadata": {},
   "outputs": [],
   "source": [
    "pd.Series(dic).sort_values().iloc[-20:]"
   ]
  },
  {
   "cell_type": "code",
   "execution_count": null,
   "id": "d5565715-22c1-4bdd-ad94-0cddf4b62fd0",
   "metadata": {},
   "outputs": [],
   "source": [
    "import numpy as np"
   ]
  },
  {
   "cell_type": "code",
   "execution_count": null,
   "id": "d6fd045c-8ec3-4ffc-ab70-34fb43fae8ee",
   "metadata": {},
   "outputs": [],
   "source": [
    "from sklearn.metrics import cos"
   ]
  },
  {
   "cell_type": "code",
   "execution_count": null,
   "id": "946dd21b-cd60-4ea1-a4d9-af97f5b7626b",
   "metadata": {},
   "outputs": [],
   "source": [
    "from sklearn.metrics.pairwise import pairwise_distances"
   ]
  },
  {
   "cell_type": "code",
   "execution_count": null,
   "id": "c708743b-f6c4-4448-af90-c8b6fb63dd0d",
   "metadata": {},
   "outputs": [],
   "source": [
    "pairwise_distances("
   ]
  },
  {
   "cell_type": "code",
   "execution_count": null,
   "id": "b263457e-2350-4636-800a-df245cc7253f",
   "metadata": {},
   "outputs": [],
   "source": [
    "np.array(data[token] - data[find_token]"
   ]
  },
  {
   "cell_type": "code",
   "execution_count": null,
   "id": "5940a0ff-d4a9-407e-b8c0-805e41bb9039",
   "metadata": {},
   "outputs": [],
   "source": []
  },
  {
   "cell_type": "code",
   "execution_count": null,
   "id": "4a3498ee-57d6-4f33-8c1c-582d6bfdd8ee",
   "metadata": {},
   "outputs": [],
   "source": []
  },
  {
   "cell_type": "code",
   "execution_count": null,
   "id": "6175cdf5-f367-489c-8444-26424806a239",
   "metadata": {},
   "outputs": [],
   "source": []
  },
  {
   "cell_type": "code",
   "execution_count": null,
   "id": "f6a188b0-d339-45d4-96ef-5645ddf3d0ba",
   "metadata": {},
   "outputs": [],
   "source": [
    "for use_tokens "
   ]
  },
  {
   "cell_type": "code",
   "execution_count": null,
   "id": "a08a5a8b-ed39-4d36-9ef0-2304521fa3c2",
   "metadata": {},
   "outputs": [],
   "source": [
    "len(data)"
   ]
  },
  {
   "cell_type": "code",
   "execution_count": null,
   "id": "b83dbab1-8676-42a7-9c38-73512234fea1",
   "metadata": {},
   "outputs": [],
   "source": [
    "data['автошколу']"
   ]
  },
  {
   "cell_type": "code",
   "execution_count": null,
   "id": "2cc1d09b-50d6-47dd-99e9-5d28a70d4bfa",
   "metadata": {},
   "outputs": [],
   "source": [
    "aaa"
   ]
  },
  {
   "cell_type": "code",
   "execution_count": null,
   "id": "04dc2bf6-579d-42c8-bcd1-00fb5cc0ea56",
   "metadata": {},
   "outputs": [],
   "source": [
    "new_questing = 'посоветуйте автошколу в сочи'"
   ]
  },
  {
   "cell_type": "code",
   "execution_count": null,
   "id": "57cb474c-bf02-4253-a36f-65d1b3a6c79a",
   "metadata": {},
   "outputs": [],
   "source": [
    "new_tokens = tokenize(new_questing)"
   ]
  },
  {
   "cell_type": "code",
   "execution_count": null,
   "id": "685783ed-8354-4aa4-892e-e0f3791c92cc",
   "metadata": {},
   "outputs": [],
   "source": [
    "new_tokens"
   ]
  },
  {
   "cell_type": "code",
   "execution_count": null,
   "id": "c570b336-213c-4e7f-9a1b-07c50eed82d3",
   "metadata": {},
   "outputs": [],
   "source": [
    "df_reply_mapping['message_tokens'] = len(df_reply_mapping)*[new_tokens]"
   ]
  },
  {
   "cell_type": "code",
   "execution_count": null,
   "id": "0c7f9fcd-aa27-43f4-b5fa-1df668166a9d",
   "metadata": {
    "tags": []
   },
   "outputs": [],
   "source": [
    "# df_reply_mapping"
   ]
  },
  {
   "cell_type": "code",
   "execution_count": null,
   "id": "32bf957a-1350-4518-b3f0-847c2521546c",
   "metadata": {},
   "outputs": [],
   "source": [
    "df_reply_mapping['score'] = df_reply_mapping.apply(intersect,axis=1)"
   ]
  },
  {
   "cell_type": "code",
   "execution_count": null,
   "id": "445767b0-dafc-4e42-bffd-99b1a0397b92",
   "metadata": {},
   "outputs": [],
   "source": [
    "df_reply_mapping.sort_values('score').iloc[-10:][['message_question', 'message_reply','message_question_tokens', 'score']]"
   ]
  },
  {
   "cell_type": "code",
   "execution_count": null,
   "id": "0cf4ef4d-d8eb-41dc-b6ce-189923883f66",
   "metadata": {},
   "outputs": [],
   "source": []
  },
  {
   "cell_type": "code",
   "execution_count": null,
   "id": "6594ebf2-97c0-4317-97c1-d038b61d74a8",
   "metadata": {},
   "outputs": [],
   "source": [
    "df['tokens'] = df['text'].apply(tokenize)"
   ]
  },
  {
   "cell_type": "code",
   "execution_count": null,
   "id": "7f427941-375c-4944-9908-c44a9166765d",
   "metadata": {},
   "outputs": [],
   "source": [
    "df = df[df['tokens'].apply(len)>=3]"
   ]
  },
  {
   "cell_type": "code",
   "execution_count": null,
   "id": "6ad40d77-4dee-42ee-bdd8-73dbafe83d7d",
   "metadata": {},
   "outputs": [],
   "source": []
  },
  {
   "cell_type": "code",
   "execution_count": null,
   "id": "367e7fb9-dc60-4dd3-b722-e962dbaadbb6",
   "metadata": {},
   "outputs": [],
   "source": [
    "pd.options.display.max_colwidth = 200"
   ]
  },
  {
   "cell_type": "code",
   "execution_count": null,
   "id": "ffad2e84-408e-4210-ac3e-2f0bcf7c0015",
   "metadata": {},
   "outputs": [],
   "source": [
    "pd.options.display.max_rows = 100"
   ]
  },
  {
   "cell_type": "code",
   "execution_count": null,
   "id": "df0ba6f6-2782-41ec-9c28-cdec8c89653f",
   "metadata": {},
   "outputs": [],
   "source": [
    "1"
   ]
  },
  {
   "cell_type": "code",
   "execution_count": null,
   "id": "09b4c006-02a5-4ae2-a5e0-184049db1ba4",
   "metadata": {
    "tags": []
   },
   "outputs": [],
   "source": [
    "df_train[df_train['question']==1].sample(n=30)"
   ]
  },
  {
   "cell_type": "code",
   "execution_count": null,
   "id": "15049fcd-13d4-47eb-b162-95be2432ed93",
   "metadata": {},
   "outputs": [],
   "source": []
  },
  {
   "cell_type": "code",
   "execution_count": null,
   "id": "b9a63950-2530-43df-aa7e-e69a4c03a3ac",
   "metadata": {},
   "outputs": [],
   "source": [
    "train_lenght = len(df_train)"
   ]
  },
  {
   "cell_type": "code",
   "execution_count": null,
   "id": "918eed91-d3a6-4287-a613-ce5c2fbf5a34",
   "metadata": {},
   "outputs": [],
   "source": [
    "mean_target = df_train['question'].mean()"
   ]
  },
  {
   "cell_type": "code",
   "execution_count": null,
   "id": "b56cae7c-e4a1-42fd-b5be-041417c37f3e",
   "metadata": {},
   "outputs": [],
   "source": [
    "from functools import reduce"
   ]
  },
  {
   "cell_type": "code",
   "execution_count": null,
   "id": "e305e05f-d203-41c7-809e-c1868414f200",
   "metadata": {},
   "outputs": [],
   "source": [
    "from collections import Counter"
   ]
  },
  {
   "cell_type": "code",
   "execution_count": null,
   "id": "7dc13d65-dcfb-49a1-9dbd-7872678b02ff",
   "metadata": {},
   "outputs": [],
   "source": [
    "for text in df[df['question']==1]['text'].values:\n",
    "    pass\n",
    "    # print(text)\n",
    "    # print()"
   ]
  },
  {
   "cell_type": "code",
   "execution_count": null,
   "id": "b26bbdd9-805c-429c-9ad9-0261f7bb406b",
   "metadata": {},
   "outputs": [],
   "source": [
    "# df['question'].sum()"
   ]
  },
  {
   "cell_type": "code",
   "execution_count": null,
   "id": "020d5c93-37e1-4e17-b988-eb4fe0221b0d",
   "metadata": {},
   "outputs": [],
   "source": [
    "from tqdm import tqdm"
   ]
  },
  {
   "cell_type": "code",
   "execution_count": null,
   "id": "39075470-1be2-4ed2-8495-2b2c61184039",
   "metadata": {},
   "outputs": [],
   "source": [
    "total_count = Counter()\n",
    "for tokens in tqdm(df_train['tokens'].values):\n",
    "    for token in tokens:\n",
    "        total_count[token]+=1\n",
    "    "
   ]
  },
  {
   "cell_type": "code",
   "execution_count": null,
   "id": "fa96da26-ad46-4bf8-8958-a32b8efb16c1",
   "metadata": {},
   "outputs": [],
   "source": [
    "# total_count"
   ]
  },
  {
   "cell_type": "code",
   "execution_count": null,
   "id": "d4879a2d-57aa-46f5-b8dd-61f4ba7324be",
   "metadata": {},
   "outputs": [],
   "source": [
    "target_count = Counter()\n",
    "for tokens in tqdm( df_train[df_train[target]==1]['tokens'].values):\n",
    "    for token in tokens:\n",
    "        target_count[token]+=1"
   ]
  },
  {
   "cell_type": "code",
   "execution_count": null,
   "id": "44397509-a748-4d92-aa76-43e1b10c49e1",
   "metadata": {},
   "outputs": [],
   "source": [
    "pd.Series(total_count).sort_values().index[-30:]"
   ]
  },
  {
   "cell_type": "code",
   "execution_count": null,
   "id": "a8fd405a-33ee-4465-8073-bde0a2fdcef4",
   "metadata": {},
   "outputs": [],
   "source": [
    "pd.Series(target_count).sort_values()[-30:]"
   ]
  },
  {
   "cell_type": "code",
   "execution_count": null,
   "id": "1118c802-a56c-42ce-beee-4fa51c2d67ec",
   "metadata": {},
   "outputs": [],
   "source": [
    "pd.Series(target_count).sort_values().iloc[-50:].index"
   ]
  },
  {
   "cell_type": "code",
   "execution_count": null,
   "id": "6a7c85d4-8194-4362-988b-fb745afec114",
   "metadata": {},
   "outputs": [],
   "source": [
    "# total_count"
   ]
  },
  {
   "cell_type": "code",
   "execution_count": null,
   "id": "f037c874-3106-4cff-a67f-89184c1ca1f1",
   "metadata": {},
   "outputs": [],
   "source": [
    "# tokens = df_test['tokens'].iloc[0]"
   ]
  },
  {
   "cell_type": "code",
   "execution_count": null,
   "id": "ef8ec55f-e5b9-4b45-ab69-8f46bd009454",
   "metadata": {},
   "outputs": [],
   "source": [
    "# pd.Series(target_count.values()).value_counts()"
   ]
  },
  {
   "cell_type": "code",
   "execution_count": null,
   "id": "d3b1b20e-f90b-4035-9e7f-d23899808d34",
   "metadata": {},
   "outputs": [],
   "source": [
    "def predict(tokens):\n",
    "    score = 0\n",
    "    for token in tokens:\n",
    "        p += p*(target_count[token])/(total_count[token]+0.0001)\n",
    "    return p"
   ]
  },
  {
   "cell_type": "code",
   "execution_count": null,
   "id": "7064c212-dc0b-47d1-ba3e-6d591c8fa346",
   "metadata": {},
   "outputs": [],
   "source": [
    "df_train['score'] = df_train['tokens'].apply(predict)"
   ]
  },
  {
   "cell_type": "code",
   "execution_count": null,
   "id": "3abb32f6-3e7d-44ba-80d2-68dd06cc195a",
   "metadata": {},
   "outputs": [],
   "source": [
    "df_test['score'] = df_test['tokens'].apply(predict)"
   ]
  },
  {
   "cell_type": "code",
   "execution_count": null,
   "id": "1533ff02-9be6-4d93-9d69-14f42db585b0",
   "metadata": {
    "tags": []
   },
   "outputs": [],
   "source": [
    "# df_test.sort_values('score').iloc[-100:]"
   ]
  },
  {
   "cell_type": "code",
   "execution_count": null,
   "id": "c6b15917-2c09-4b83-978d-df53b8099c51",
   "metadata": {},
   "outputs": [],
   "source": [
    "# df_test.sort_values('score')"
   ]
  },
  {
   "cell_type": "code",
   "execution_count": null,
   "id": "11bd9f48-46e3-4ed8-8916-1dd2d042810b",
   "metadata": {},
   "outputs": [],
   "source": [
    "from sklearn.metrics import roc_auc_score"
   ]
  },
  {
   "cell_type": "code",
   "execution_count": null,
   "id": "b4b8e79c-3f84-4390-896b-71ac499ee6e4",
   "metadata": {},
   "outputs": [],
   "source": [
    "roc_auc_score(df_train[target], df_train['score'])"
   ]
  },
  {
   "cell_type": "code",
   "execution_count": null,
   "id": "089ec5cb-0149-4f51-bfe9-26c5fa7d255c",
   "metadata": {},
   "outputs": [],
   "source": []
  },
  {
   "cell_type": "code",
   "execution_count": null,
   "id": "e9712927-e073-43cc-8a85-cf79d7e67e56",
   "metadata": {},
   "outputs": [],
   "source": [
    "df_test['score'].max()"
   ]
  },
  {
   "cell_type": "code",
   "execution_count": null,
   "id": "70d0091d-ab44-48be-ab29-2ec0e03b406f",
   "metadata": {},
   "outputs": [],
   "source": [
    "vc = df[df[target]==1]['tokens'].apply(len).value_counts()"
   ]
  },
  {
   "cell_type": "code",
   "execution_count": null,
   "id": "431ab161-e299-4b9b-887f-d181a885241f",
   "metadata": {},
   "outputs": [],
   "source": [
    "import matplotlib.pyplot as plt"
   ]
  },
  {
   "cell_type": "code",
   "execution_count": null,
   "id": "83158ede-1786-423b-96b6-f3e6952b3070",
   "metadata": {},
   "outputs": [],
   "source": [
    "plt.bar(vc.index, vc.values)\n",
    "plt.show()"
   ]
  },
  {
   "cell_type": "code",
   "execution_count": null,
   "id": "dae8eaeb-2e07-48d2-91f5-2ce348b36e29",
   "metadata": {},
   "outputs": [],
   "source": []
  },
  {
   "cell_type": "code",
   "execution_count": null,
   "id": "3b57255e-340c-4cd8-9eff-b93349a226e6",
   "metadata": {},
   "outputs": [],
   "source": [
    "# рабоатет даже, если нет слова посоветуйте"
   ]
  },
  {
   "cell_type": "code",
   "execution_count": null,
   "id": "ce33d99d-6c9a-4f6e-abac-fb23ca36821f",
   "metadata": {},
   "outputs": [],
   "source": [
    "df_test[df_test['tokens'].apply(len)>3].sort_values('score').iloc[-50:]"
   ]
  },
  {
   "cell_type": "code",
   "execution_count": null,
   "id": "e2dfa515-4ee4-48d8-a9e9-8cf285b88ae5",
   "metadata": {},
   "outputs": [],
   "source": [
    "# топ признаков того, что это вопрос/просьба подсказать\n",
    "stat = {}\n",
    "for key, val in target_count.items():\n",
    "    if val>=3:\n",
    "        rate = (val)/(total_count[key]+1)\n",
    "        stat[key] = rate"
   ]
  },
  {
   "cell_type": "code",
   "execution_count": null,
   "id": "9b125d52-c84e-441a-a277-34ef9e581008",
   "metadata": {},
   "outputs": [],
   "source": [
    "stat['smm']"
   ]
  },
  {
   "cell_type": "code",
   "execution_count": null,
   "id": "c9dfe92a-492e-4f31-b8c8-94cc756ad9eb",
   "metadata": {},
   "outputs": [],
   "source": [
    "# pd.Series(target_count).sort_values().iloc[-100:-50]"
   ]
  },
  {
   "cell_type": "code",
   "execution_count": null,
   "id": "249e3180-acc8-4ef3-a6f6-fa3da4b1d721",
   "metadata": {},
   "outputs": [],
   "source": [
    "pd.Series(stat).sort_values().iloc[-50:]"
   ]
  },
  {
   "cell_type": "code",
   "execution_count": null,
   "id": "13b27aee-b536-4cac-8040-d341954f6891",
   "metadata": {},
   "outputs": [],
   "source": []
  }
 ],
 "metadata": {
  "kernelspec": {
   "display_name": "Python 3 (ipykernel)",
   "language": "python",
   "name": "python3"
  },
  "language_info": {
   "codemirror_mode": {
    "name": "ipython",
    "version": 3
   },
   "file_extension": ".py",
   "mimetype": "text/x-python",
   "name": "python",
   "nbconvert_exporter": "python",
   "pygments_lexer": "ipython3",
   "version": "3.10.8"
  }
 },
 "nbformat": 4,
 "nbformat_minor": 5
}
