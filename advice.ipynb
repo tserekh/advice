{
 "cells": [
  {
   "cell_type": "code",
   "execution_count": null,
   "id": "e76a0f31-4a27-4746-8049-39e693a88f65",
   "metadata": {},
   "outputs": [],
   "source": [
    "import glob"
   ]
  },
  {
   "cell_type": "code",
   "execution_count": null,
   "id": "37aebfe4-72b7-486c-9e66-d7cac15493e9",
   "metadata": {},
   "outputs": [],
   "source": [
    "folders = glob.glob(\"C:/Users/artem/Downloads/Telegram Desktop/ChatExport*\")"
   ]
  },
  {
   "cell_type": "code",
   "execution_count": null,
   "id": "bf0cdf16-6cf0-4cd4-a6cf-fedbe2b59e8f",
   "metadata": {},
   "outputs": [],
   "source": []
  },
  {
   "cell_type": "code",
   "execution_count": null,
   "id": "48dfa1ed-190b-4793-a51d-2fdd1c563698",
   "metadata": {},
   "outputs": [],
   "source": [
    "files = []\n",
    "for folder in folders:\n",
    "    files += glob.glob(f\"{folder}/*.html\")"
   ]
  },
  {
   "cell_type": "code",
   "execution_count": null,
   "id": "c8cc813e-f629-4914-97a2-66da1c29ced2",
   "metadata": {},
   "outputs": [],
   "source": [
    "from bs4 import BeautifulSoup"
   ]
  },
  {
   "cell_type": "code",
   "execution_count": null,
   "id": "6caf0524-f3f3-4289-94ee-94f4b256b3ee",
   "metadata": {
    "tags": []
   },
   "outputs": [],
   "source": [
    "messages_all = []\n",
    "for file in files:\n",
    "    print(file)\n",
    "    with open(file, encoding='utf-8') as f:\n",
    "        soup = BeautifulSoup(f.read(), 'html.parser')\n",
    "        messages = soup.body.find_all(attrs = {'class':'message'})\n",
    "        messages= [message.text.split('\\n\\n')[-2].lower() for message in messages]\n",
    "    messages_all+=messages\n",
    "messages_all = list(filter(len, messages_all))"
   ]
  },
  {
   "cell_type": "code",
   "execution_count": null,
   "id": "e96793b4-a48f-409b-b2ac-10f36349dc34",
   "metadata": {},
   "outputs": [],
   "source": [
    "from nltk.tokenize import sent_tokenize"
   ]
  },
  {
   "cell_type": "code",
   "execution_count": null,
   "id": "9a3f249e-cce9-4c91-ae79-7c62a9fa51d9",
   "metadata": {},
   "outputs": [],
   "source": [
    "import pandas as pd"
   ]
  },
  {
   "cell_type": "code",
   "execution_count": null,
   "id": "95d96977-ddbe-4ca5-827a-c9f9f3a8c08c",
   "metadata": {},
   "outputs": [],
   "source": [
    "df = pd.DataFrame(messages_all, columns=['text'])\n",
    "df = df.drop_duplicates()"
   ]
  },
  {
   "cell_type": "code",
   "execution_count": null,
   "id": "8f05dc32-f097-40bb-8472-eaf687699278",
   "metadata": {},
   "outputs": [],
   "source": []
  },
  {
   "cell_type": "code",
   "execution_count": null,
   "id": "7709c04c-f1ac-484a-8045-a7f407ca7c3b",
   "metadata": {},
   "outputs": [],
   "source": [
    "target = 'question'\n",
    "target_list = []\n",
    "for message in df['text'].values:\n",
    "    if 'посовет' in message:\n",
    "        target_list.append(1)\n",
    "    else:\n",
    "        target_list.append(0)   "
   ]
  },
  {
   "cell_type": "code",
   "execution_count": null,
   "id": "e4fd10c1-ae3a-4a37-9abb-62e1814fc768",
   "metadata": {},
   "outputs": [],
   "source": [
    "df[target] = target_list"
   ]
  },
  {
   "cell_type": "code",
   "execution_count": null,
   "id": "a13a22dd-a2f5-4550-88e3-e2543b7e9748",
   "metadata": {},
   "outputs": [],
   "source": [
    "df.shape"
   ]
  },
  {
   "cell_type": "code",
   "execution_count": null,
   "id": "70b38437-9752-46a5-a0ce-44d7cbeca2b7",
   "metadata": {},
   "outputs": [],
   "source": [
    "df['question'].sum()"
   ]
  },
  {
   "cell_type": "code",
   "execution_count": null,
   "id": "7d7987e6-4c3d-4d99-aa7f-c108f3f9df67",
   "metadata": {},
   "outputs": [],
   "source": [
    "# len(messages_all)"
   ]
  },
  {
   "cell_type": "code",
   "execution_count": null,
   "id": "0d878172-67f9-47a3-af24-1b1f16a32740",
   "metadata": {},
   "outputs": [],
   "source": [
    "# messages_all"
   ]
  },
  {
   "cell_type": "code",
   "execution_count": null,
   "id": "d3c043d3-893d-4b84-b3e0-86b6af3be83d",
   "metadata": {},
   "outputs": [],
   "source": [
    "# sent_tokenize(text, language=\"russian\")"
   ]
  },
  {
   "cell_type": "code",
   "execution_count": null,
   "id": "ab74127e-ad0b-487e-aa61-5fb55c75f6d0",
   "metadata": {},
   "outputs": [],
   "source": [
    "from nltk.tokenize import sent_tokenize, word_tokenize"
   ]
  },
  {
   "cell_type": "code",
   "execution_count": null,
   "id": "a0c1da4e-38a1-4d8b-a5cc-7913cc327eb1",
   "metadata": {},
   "outputs": [],
   "source": [
    "def tokenize(text):\n",
    "    stop_words = ['за', 'там', 'так', 'то', 'все', 'если', '-',\n",
    "       ':', 'но', 'как', 'по', 'у', 'есть', 'это', 'я', 'с', 'а', 'не', ')', 'и', '.', 'в', ',']\n",
    "    tokens = word_tokenize(text, language=\"russian\")\n",
    "    tokens = list(filter(lambda x:'посовет' not in x, tokens))\n",
    "    tokens = list(filter(lambda x: x not in stop_words, tokens))\n",
    "    \n",
    "    return list(set(tokens))"
   ]
  },
  {
   "cell_type": "code",
   "execution_count": null,
   "id": "6594ebf2-97c0-4317-97c1-d038b61d74a8",
   "metadata": {},
   "outputs": [],
   "source": [
    "df['tokens'] = df['text'].apply(tokenize)"
   ]
  },
  {
   "cell_type": "code",
   "execution_count": null,
   "id": "7f427941-375c-4944-9908-c44a9166765d",
   "metadata": {},
   "outputs": [],
   "source": [
    "df = df[df['tokens'].apply(len)>=3]"
   ]
  },
  {
   "cell_type": "code",
   "execution_count": null,
   "id": "6ad40d77-4dee-42ee-bdd8-73dbafe83d7d",
   "metadata": {},
   "outputs": [],
   "source": [
    "from sklearn.model_selection import train_test_split"
   ]
  },
  {
   "cell_type": "code",
   "execution_count": null,
   "id": "15049fcd-13d4-47eb-b162-95be2432ed93",
   "metadata": {},
   "outputs": [],
   "source": [
    "df_train, df_test = train_test_split(df, test_size=0.33,random_state=42)"
   ]
  },
  {
   "cell_type": "code",
   "execution_count": null,
   "id": "b9a63950-2530-43df-aa7e-e69a4c03a3ac",
   "metadata": {},
   "outputs": [],
   "source": [
    "train_lenght = len(df_train)"
   ]
  },
  {
   "cell_type": "code",
   "execution_count": null,
   "id": "918eed91-d3a6-4287-a613-ce5c2fbf5a34",
   "metadata": {},
   "outputs": [],
   "source": [
    "mean_target = df_train['question'].mean()"
   ]
  },
  {
   "cell_type": "code",
   "execution_count": null,
   "id": "b56cae7c-e4a1-42fd-b5be-041417c37f3e",
   "metadata": {},
   "outputs": [],
   "source": [
    "from functools import reduce"
   ]
  },
  {
   "cell_type": "code",
   "execution_count": null,
   "id": "e305e05f-d203-41c7-809e-c1868414f200",
   "metadata": {},
   "outputs": [],
   "source": [
    "from collections import Counter"
   ]
  },
  {
   "cell_type": "code",
   "execution_count": null,
   "id": "7dc13d65-dcfb-49a1-9dbd-7872678b02ff",
   "metadata": {},
   "outputs": [],
   "source": [
    "for text in df[df['question']==1]['text'].values:\n",
    "    pass\n",
    "    # print(text)\n",
    "    # print()"
   ]
  },
  {
   "cell_type": "code",
   "execution_count": null,
   "id": "b26bbdd9-805c-429c-9ad9-0261f7bb406b",
   "metadata": {},
   "outputs": [],
   "source": [
    "# df['question'].sum()"
   ]
  },
  {
   "cell_type": "code",
   "execution_count": null,
   "id": "020d5c93-37e1-4e17-b988-eb4fe0221b0d",
   "metadata": {},
   "outputs": [],
   "source": [
    "from tqdm import tqdm"
   ]
  },
  {
   "cell_type": "code",
   "execution_count": null,
   "id": "39075470-1be2-4ed2-8495-2b2c61184039",
   "metadata": {},
   "outputs": [],
   "source": [
    "total_count = Counter()\n",
    "for tokens in tqdm(df_train['tokens'].values):\n",
    "    for token in tokens:\n",
    "        total_count[token]+=1\n",
    "    "
   ]
  },
  {
   "cell_type": "code",
   "execution_count": null,
   "id": "fa96da26-ad46-4bf8-8958-a32b8efb16c1",
   "metadata": {},
   "outputs": [],
   "source": [
    "# total_count"
   ]
  },
  {
   "cell_type": "code",
   "execution_count": null,
   "id": "d4879a2d-57aa-46f5-b8dd-61f4ba7324be",
   "metadata": {},
   "outputs": [],
   "source": [
    "target_count = Counter()\n",
    "for tokens in tqdm( df_train[df_train[target]==1]['tokens'].values):\n",
    "    for token in tokens:\n",
    "        target_count[token]+=1"
   ]
  },
  {
   "cell_type": "code",
   "execution_count": null,
   "id": "44397509-a748-4d92-aa76-43e1b10c49e1",
   "metadata": {},
   "outputs": [],
   "source": [
    "pd.Series(total_count).sort_values().index[-30:]"
   ]
  },
  {
   "cell_type": "code",
   "execution_count": null,
   "id": "a8fd405a-33ee-4465-8073-bde0a2fdcef4",
   "metadata": {},
   "outputs": [],
   "source": [
    "pd.Series(target_count).sort_values()[-30:]"
   ]
  },
  {
   "cell_type": "code",
   "execution_count": null,
   "id": "1118c802-a56c-42ce-beee-4fa51c2d67ec",
   "metadata": {},
   "outputs": [],
   "source": [
    "pd.Series(target_count).sort_values().iloc[-50:].index"
   ]
  },
  {
   "cell_type": "code",
   "execution_count": null,
   "id": "6a7c85d4-8194-4362-988b-fb745afec114",
   "metadata": {},
   "outputs": [],
   "source": [
    "# total_count"
   ]
  },
  {
   "cell_type": "code",
   "execution_count": null,
   "id": "f037c874-3106-4cff-a67f-89184c1ca1f1",
   "metadata": {},
   "outputs": [],
   "source": [
    "# tokens = df_test['tokens'].iloc[0]"
   ]
  },
  {
   "cell_type": "code",
   "execution_count": null,
   "id": "ef8ec55f-e5b9-4b45-ab69-8f46bd009454",
   "metadata": {},
   "outputs": [],
   "source": [
    "# pd.Series(target_count.values()).value_counts()"
   ]
  },
  {
   "cell_type": "code",
   "execution_count": null,
   "id": "d3b1b20e-f90b-4035-9e7f-d23899808d34",
   "metadata": {},
   "outputs": [],
   "source": [
    "def predict(tokens):\n",
    "    p = 1.0\n",
    "    for token in tokens:\n",
    "        p = p*(target_count[token])/(total_count[token]+0.0001)\n",
    "    return p"
   ]
  },
  {
   "cell_type": "code",
   "execution_count": null,
   "id": "7064c212-dc0b-47d1-ba3e-6d591c8fa346",
   "metadata": {},
   "outputs": [],
   "source": [
    "df_train['score'] = df_train['tokens'].apply(predict)"
   ]
  },
  {
   "cell_type": "code",
   "execution_count": null,
   "id": "3abb32f6-3e7d-44ba-80d2-68dd06cc195a",
   "metadata": {},
   "outputs": [],
   "source": [
    "df_test['score'] = df_test['tokens'].apply(predict)"
   ]
  },
  {
   "cell_type": "code",
   "execution_count": null,
   "id": "1533ff02-9be6-4d93-9d69-14f42db585b0",
   "metadata": {
    "tags": []
   },
   "outputs": [],
   "source": [
    "# df_test.sort_values('score').iloc[-100:]"
   ]
  },
  {
   "cell_type": "code",
   "execution_count": null,
   "id": "c6b15917-2c09-4b83-978d-df53b8099c51",
   "metadata": {},
   "outputs": [],
   "source": [
    "# df_test.sort_values('score')"
   ]
  },
  {
   "cell_type": "code",
   "execution_count": null,
   "id": "11bd9f48-46e3-4ed8-8916-1dd2d042810b",
   "metadata": {},
   "outputs": [],
   "source": [
    "from sklearn.metrics import roc_auc_score"
   ]
  },
  {
   "cell_type": "code",
   "execution_count": null,
   "id": "b4b8e79c-3f84-4390-896b-71ac499ee6e4",
   "metadata": {},
   "outputs": [],
   "source": [
    "roc_auc_score(df_train[target], df_train['score'])"
   ]
  },
  {
   "cell_type": "code",
   "execution_count": null,
   "id": "089ec5cb-0149-4f51-bfe9-26c5fa7d255c",
   "metadata": {},
   "outputs": [],
   "source": [
    "roc_auc_score(df_test[target], df_test['score'])"
   ]
  },
  {
   "cell_type": "code",
   "execution_count": null,
   "id": "e9712927-e073-43cc-8a85-cf79d7e67e56",
   "metadata": {},
   "outputs": [],
   "source": [
    "df_test['score'].max()"
   ]
  },
  {
   "cell_type": "code",
   "execution_count": null,
   "id": "70d0091d-ab44-48be-ab29-2ec0e03b406f",
   "metadata": {},
   "outputs": [],
   "source": [
    "vc = df[df[target]==1]['tokens'].apply(len).value_counts()"
   ]
  },
  {
   "cell_type": "code",
   "execution_count": null,
   "id": "431ab161-e299-4b9b-887f-d181a885241f",
   "metadata": {},
   "outputs": [],
   "source": [
    "import matplotlib.pyplot as plt"
   ]
  },
  {
   "cell_type": "code",
   "execution_count": null,
   "id": "ca658a41-0934-4508-af40-b38d0fe11e0d",
   "metadata": {
    "tags": []
   },
   "outputs": [],
   "source": [
    "# vc.sort_index()"
   ]
  },
  {
   "cell_type": "code",
   "execution_count": null,
   "id": "83158ede-1786-423b-96b6-f3e6952b3070",
   "metadata": {},
   "outputs": [],
   "source": [
    "plt.bar(vc.index, vc.values)\n",
    "plt.show()"
   ]
  },
  {
   "cell_type": "code",
   "execution_count": null,
   "id": "4c85b8ea-4753-46ae-8fc3-1db350a77e3f",
   "metadata": {},
   "outputs": [],
   "source": [
    "# df['text'].value_counts().iloc[-20:100]"
   ]
  },
  {
   "cell_type": "code",
   "execution_count": null,
   "id": "ce33d99d-6c9a-4f6e-abac-fb23ca36821f",
   "metadata": {},
   "outputs": [],
   "source": [
    "df_test[df_test['tokens'].apply(len)>3].sort_values('score').iloc[-70:]"
   ]
  },
  {
   "cell_type": "code",
   "execution_count": null,
   "id": "637bb8ba-3bc8-446c-a2fd-464612afab70",
   "metadata": {},
   "outputs": [],
   "source": [
    "# df_test[df_test['question']==1]"
   ]
  },
  {
   "cell_type": "code",
   "execution_count": null,
   "id": "e2dfa515-4ee4-48d8-a9e9-8cf285b88ae5",
   "metadata": {},
   "outputs": [],
   "source": [
    "stat = {}\n",
    "\n",
    "for key, val in target_count.items():\n",
    "    if val>=3:\n",
    "        rate = (val)/(total_count[key]+1)\n",
    "        stat[key] = rate"
   ]
  },
  {
   "cell_type": "code",
   "execution_count": null,
   "id": "249e3180-acc8-4ef3-a6f6-fa3da4b1d721",
   "metadata": {},
   "outputs": [],
   "source": [
    "pd.Series(stat).sort_values().iloc[-50:]"
   ]
  }
 ],
 "metadata": {
  "kernelspec": {
   "display_name": "Python 3 (ipykernel)",
   "language": "python",
   "name": "python3"
  },
  "language_info": {
   "codemirror_mode": {
    "name": "ipython",
    "version": 3
   },
   "file_extension": ".py",
   "mimetype": "text/x-python",
   "name": "python",
   "nbconvert_exporter": "python",
   "pygments_lexer": "ipython3",
   "version": "3.10.8"
  }
 },
 "nbformat": 4,
 "nbformat_minor": 5
}
